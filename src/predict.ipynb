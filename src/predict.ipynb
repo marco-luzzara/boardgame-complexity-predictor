{
 "cells": [
  {
   "cell_type": "code",
   "execution_count": 4,
   "id": "3aa4a086-aa20-4def-b17a-3b4ff4fad93f",
   "metadata": {},
   "outputs": [
    {
     "name": "stderr",
     "output_type": "stream",
     "text": [
      "Exception ignored in: <function tqdm.__del__ at 0x7fee26707520>\n",
      "Traceback (most recent call last):\n",
      "  File \"/opt/conda/lib/python3.10/site-packages/tqdm/std.py\", line 1161, in __del__\n",
      "    def __del__(self):\n",
      "KeyboardInterrupt: \n",
      "11/03/2022 08:49:39 - INFO - \t missing_keys: []\n",
      "11/03/2022 08:49:39 - INFO - \t unexpected_keys: []\n",
      "11/03/2022 08:49:39 - INFO - \t mismatched_keys: []\n",
      "11/03/2022 08:49:39 - INFO - \t error_msgs: []\n",
      "11/03/2022 08:49:39 - INFO - \t Model Parameters: 90.5M, Transformer: 82.1M, Coref head: 8.4M\n"
     ]
    },
    {
     "data": {
      "text/plain": [
       "<fastcoref.spacy_component.spacy_component.FastCorefResolver at 0x7fedf1424850>"
      ]
     },
     "execution_count": 4,
     "metadata": {},
     "output_type": "execute_result"
    }
   ],
   "source": [
    "from fastcoref import spacy_component\n",
    "import spacy\n",
    "\n",
    "nlp = spacy.load(\"en_core_web_sm\", exclude=[\"parser\", \"lemmatizer\", \"ner\", \"textcat\"])\n",
    "nlp.add_pipe(\"fastcoref\")"
   ]
  },
  {
   "cell_type": "code",
   "execution_count": 45,
   "id": "a4bcea26-c1a3-45fb-845e-98cae3073e85",
   "metadata": {},
   "outputs": [
    {
     "name": "stderr",
     "output_type": "stream",
     "text": [
      "2022-11-03 15:13:02,548 bgg_predict  DEBUG    test\n",
      "11/03/2022 15:13:02 - DEBUG - \t test\n"
     ]
    }
   ],
   "source": [
    "import logging\n",
    "\n",
    "logger = logging.getLogger('bgg_predict')\n",
    "logger.handlers.clear()\n",
    "handler = logging.StreamHandler()\n",
    "formatter = logging.Formatter(\n",
    "        '%(asctime)s %(name)-12s %(levelname)-8s %(message)s')\n",
    "handler.setFormatter(formatter)\n",
    "logger.addHandler(handler)\n",
    "logger.setLevel(logging.DEBUG)\n",
    "\n",
    "logger.debug('test')"
   ]
  },
  {
   "cell_type": "code",
   "execution_count": 46,
   "id": "4caa1a08-119d-4cca-a7fc-61808c35e286",
   "metadata": {},
   "outputs": [],
   "source": [
    "import re\n",
    "from typing import List\n",
    "from dataclasses import dataclass\n",
    "\n",
    "regex_mail = re.compile(r'\\w+(?:\\.\\w+)*?@\\w+(?:\\.\\w+)+')\n",
    "\n",
    "@dataclass\n",
    "class Sentence:\n",
    "    content: str\n",
    "    start: int\n",
    "    end: int\n",
    "    \n",
    "    def does_include_pos(self, pos: int) -> bool:\n",
    "        return self.start <= pos <= self.end\n",
    "\n",
    "def clean_text(text: str) -> str:\n",
    "    return regex_mail.sub('', text)\n",
    "\n",
    "def get_sentences_from_text(text: str) -> List[Sentence]:\n",
    "    # assert no continuous dots because of text cleared while building the dataset\n",
    "    sentences = text.split('.')\n",
    "    \n",
    "    res = []\n",
    "    char_accumulator = 0\n",
    "    for sentence in sentences:\n",
    "        res.append(Sentence(sentence, char_accumulator, char_accumulator + len(sentence) - 1))\n",
    "        char_accumulator += len(sentence) + 1\n",
    "        \n",
    "    if res[-1].content == '':\n",
    "        res.pop()\n",
    "        \n",
    "    return res"
   ]
  },
  {
   "cell_type": "code",
   "execution_count": 47,
   "id": "361b1290-00e4-42f3-85a4-badadb8d574f",
   "metadata": {},
   "outputs": [
    {
     "data": {
      "text/plain": [
       "[[0, 1, 1]]"
      ]
     },
     "execution_count": 47,
     "metadata": {},
     "output_type": "execute_result"
    }
   ],
   "source": [
    "from bisect import bisect_left\n",
    "from typing import List, Tuple\n",
    "from dataclasses import dataclass\n",
    "\n",
    "# necessary to use bisect_left with ranges\n",
    "@dataclass\n",
    "class Interval:\n",
    "    start: int\n",
    "    end: int\n",
    "    \n",
    "    def __lt__(self, other) -> bool:\n",
    "       return self.start < self.end < other.start\n",
    "    \n",
    "    def __eq__(self, other) -> bool:\n",
    "       return self.start <= other.start <= self.end\n",
    "\n",
    "def get_sentences_from_clusters(clusters: List[List[Tuple[int, int]]], sentences: List[Sentence]) -> List[List[int]]:\n",
    "    '''find the sentence each cluster belongs to'''\n",
    "    sentence_clusters = []\n",
    "    for cluster in clusters:\n",
    "        sentence_clusters.append([bisect_left(sentences, Interval(entity[0], entity[1]), key=lambda x: Interval(x.start, x.end)) for entity in cluster])\n",
    "\n",
    "    return sentence_clusters\n",
    "\n",
    "text = 'Alice goes down the rabbit hole. Where she would discover a new reality beyond her expectations.'\n",
    "sentences = get_sentences_from_text(text)\n",
    "clusters = [[(0, 5), (39, 42), (79, 82)]]\n",
    "get_sentences_from_clusters(clusters, sentences)"
   ]
  },
  {
   "cell_type": "code",
   "execution_count": 48,
   "id": "2e53dc33-31ba-4e04-80e6-dc645714fe60",
   "metadata": {},
   "outputs": [],
   "source": [
    "from typing import List\n",
    "from itertools import groupby\n",
    "from operator import itemgetter\n",
    "from scipy.sparse import csr_matrix\n",
    "from scipy.sparse.csgraph import connected_components\n",
    "\n",
    "def get_rule_groups_from_sentence_clusters(sentences: List[Sentence], sentence_clusters: List[List[int]]) -> List[List[int]]:\n",
    "    def normalize_group(group: Set[int]) -> List[List[int]]:\n",
    "        '''each group could contain multiple consecutive sublists. this method split these sublists'''\n",
    "        res = []\n",
    "\n",
    "        # https://stackoverflow.com/a/23861347/5587393\n",
    "        for k, g in groupby(enumerate(sorted(list(group))), lambda x: x[0] - x[1]):\n",
    "            res.append(list(map(itemgetter(1), g)))\n",
    "\n",
    "        return res\n",
    "    # the graph is built as a directed sparse graph where the first element of each cluster\n",
    "    # is connected to the other elements in the same cluster\n",
    "    graph = [[0 for _ in range(len(sentences))] for __ in range(len(sentences))]\n",
    "    for cluster in sentence_clusters:\n",
    "        for sentence in cluster[1:]:\n",
    "            graph[cluster[0]][sentence] = 1\n",
    "\n",
    "    # find the connected components of the graph created from the clusters returned after coref     \n",
    "    graph = csr_matrix(graph)\n",
    "    n_components, labels = connected_components(csgraph=graph, directed=False, return_labels=True)\n",
    "    groups = [set() for _ in range(n_components)]\n",
    "    for i, label in enumerate(labels):\n",
    "        groups[label].add(i)\n",
    "\n",
    "    return [norm_group for group in groups for norm_group in normalize_group(group)]"
   ]
  },
  {
   "cell_type": "code",
   "execution_count": 56,
   "id": "7d6596cd-3fd1-4e50-9dce-e6c333667182",
   "metadata": {},
   "outputs": [
    {
     "name": "stderr",
     "output_type": "stream",
     "text": [
      "11/03/2022 15:24:52 - INFO - \t Tokenize 1 texts...\n"
     ]
    },
    {
     "data": {
      "application/vnd.jupyter.widget-view+json": {
       "model_id": "e42975cc5e0b45758d5ac576273c3cf5",
       "version_major": 2,
       "version_minor": 0
      },
      "text/plain": [
       "  0%|          | 0/1 [00:00<?, ?ba/s]"
      ]
     },
     "metadata": {},
     "output_type": "display_data"
    },
    {
     "name": "stderr",
     "output_type": "stream",
     "text": [
      "11/03/2022 15:24:53 - INFO - \t ***** Running Inference on 1 texts *****\n"
     ]
    },
    {
     "data": {
      "application/vnd.jupyter.widget-view+json": {
       "model_id": "f37dd9fa37894dd5abce2249a3b805a6",
       "version_major": 2,
       "version_minor": 0
      },
      "text/plain": [
       "Inference:   0%|          | 0/1 [00:00<?, ?it/s]"
      ]
     },
     "metadata": {},
     "output_type": "display_data"
    },
    {
     "name": "stderr",
     "output_type": "stream",
     "text": [
      "2022-11-03 15:24:54,374 bgg_predict  DEBUG    [[(200, 211), (287, 296), (929, 938), (1520, 1529)], [(439, 453), (463, 467), (530, 546)], [(632, 648), (649, 651)], [(714, 741), (754, 756)], [(689, 700), (777, 781), (840, 851)], [(785, 799), (819, 821)], [(917, 938), (986, 998)], [(1217, 1228), (1235, 1238), (1267, 1269)], [(392, 406), (1295, 1311)], [(1484, 1492), (1499, 1502), (1533, 1535)], [(468, 489), (1975, 1996)], [(2027, 2033), (2069, 2082), (2108, 2110)], [(2219, 2227), (2237, 2245), (2569, 2577), (2681, 2689), (2708, 2716)], [(2278, 2286), (2306, 2309), (2350, 2391)], [(2406, 2451), (2443, 2446)], [(2511, 2522), (2591, 2603), (2645, 2649)], [(2581, 2590), (2664, 2666)], [(2336, 2349), (2723, 2736)], [(2999, 3011), (3100, 3112)], [(2912, 2921), (3123, 3132)]]\n",
      "11/03/2022 15:24:54 - DEBUG - \t [[(200, 211), (287, 296), (929, 938), (1520, 1529)], [(439, 453), (463, 467), (530, 546)], [(632, 648), (649, 651)], [(714, 741), (754, 756)], [(689, 700), (777, 781), (840, 851)], [(785, 799), (819, 821)], [(917, 938), (986, 998)], [(1217, 1228), (1235, 1238), (1267, 1269)], [(392, 406), (1295, 1311)], [(1484, 1492), (1499, 1502), (1533, 1535)], [(468, 489), (1975, 1996)], [(2027, 2033), (2069, 2082), (2108, 2110)], [(2219, 2227), (2237, 2245), (2569, 2577), (2681, 2689), (2708, 2716)], [(2278, 2286), (2306, 2309), (2350, 2391)], [(2406, 2451), (2443, 2446)], [(2511, 2522), (2591, 2603), (2645, 2649)], [(2581, 2590), (2664, 2666)], [(2336, 2349), (2723, 2736)], [(2999, 3011), (3100, 3112)], [(2912, 2921), (3123, 3132)]]\n"
     ]
    },
    {
     "data": {
      "text/plain": [
       "['Corrections or constructive criticisms?     Email:  Michael Weston, 2004 Elfenland Quick Reference Setup 1   Each player chooses a color',\n",
       " 'Place the Boot on Elvenhold and 1 marker in each other city on the board',\n",
       " '3   Place the 4 Round # cards on the board in order with the  1  on top',\n",
       " '4) Plan routes: Each player places 1 tile on any road on the board, as long as the type of transport is legal for that terrain',\n",
       " 'A player takes his color marker off the board as he goes into each city',\n",
       " '2   Shuffle the cards',\n",
       " 'Deal 8 to each player',\n",
       " '4   Mix tiles face down',\n",
       " 'Turn 5 tiles face up',\n",
       " '5   Each player gets a Summary card and an Obstacle tile',\n",
       " 'The Summary card shows how many cards each transport requires to travel in each terrain type',\n",
       " '6   Choose a start player and give them the Start Player card Turn Overview  - each phase starts with the Start Player and goes clockwise',\n",
       " 'Pass the Start Player card to the left',\n",
       " '1) Refill everyone s hand back up to 8 cards',\n",
       " '2) Each player draws a face-down tile. It is kept secret from other players',\n",
       " '3) Each player draws either a face-down or face-up tile, and places it face-up in front of them',\n",
       " 'Repeat this until each player has 3 face-up tiles',\n",
       " 'If a face-up tile was drawn, replace it',\n",
       " 'An Obstacle tile may only be placed on a road that already has a Transportation tile',\n",
       " 'A player may pass on one turn and still play at a later turn',\n",
       " 'This phase ends once all players have passed consecutively',\n",
       " '5) Movement: Each player moves his Boot along as many roads as he wishes and has cards for',\n",
       " 'An Obstacle tile requires 1 additional card of the same type in order for the road to be passed',\n",
       " 'Rivers: 1 Raft card is required going downstream; 2 are required for going upstream Ferries: 2 Raft cards are required to follow any of the white dotted water routes on both lakes',\n",
       " 'Caravans: For any non-water travel, a player may play any 3 cards instead of the specifically required type of cards',\n",
       " 'If an Obstacle is on the road, then 4 cards are required',\n",
       " '6) End of round: Change the Round # card to the next number',\n",
       " 'Each player keeps 1 tile and 4 cards, discarding any excess. The tile kept may be left face-down if it was already',\n",
       " 'Shuffle all used and discarded tiles and cards back into supply',\n",
       " 'Obstacle tiles are removed from the game. Game End The game ends after the 4th round, or if a player collects all 20 of his markers before the end of the 3rd round. The player who collected the most markers wins',\n",
       " 'Town Cards: Each player gets 1 Town card face-down. The goal is to end the game in this town. The player s score is reduced by the number of spaces they are away from it at the end of the game. Shorter game: End the game after the 3rd round',\n",
       " 'If tied, the player holding the most cards in his hand wins',\n",
       " 'Variants   use in any combination desired',\n",
       " 'Hand Management: in Phase 1, instead of only refilling up to 8 cards, each player is dealt 8 cards',\n",
       " 'Players must still discard down to 4 cards at the end of the turn (original Alan Moon rule). Ferries: Mare Magnum ferries require 2 Raft cards (normal rule), while Mare Nebulae ferries only require 1 Raft card. Also, players may use a Caravan (any 3 cards) to cross Mare Nebulae (original Alan Moon rules)']"
      ]
     },
     "execution_count": 56,
     "metadata": {},
     "output_type": "execute_result"
    }
   ],
   "source": [
    "text = \"Corrections or constructive criticisms?     Email: delta1119@earthlink.net Michael Weston, 2004 Elfenland Quick Reference Setup 1   Each player chooses a color.Place the Boot on Elvenhold and 1 marker in each other city on the board.2   Shuffle the cards.Deal 8 to each player.3   Place the 4 Round # cards on the board in order with the  1  on top.4   Mix tiles face down.Turn 5 tiles face up.5   Each player gets a Summary card and an Obstacle tile.6   Choose a start player and give them the Start Player card Turn Overview  - each phase starts with the Start Player and goes clockwise.1) Refill everyone s hand back up to 8 cards.2) Each player draws a face-down tile.It is kept secret from other players.3) Each player draws either a face-down or face-up tile, and places it face-up in front of them.If a face-up tile was drawn, replace it.Repeat this until each player has 3 face-up tiles.4) Plan routes: Each player places 1 tile on any road on the board, as long as the type of transport is legal for that terrain.An Obstacle tile may only be placed on a road that already has a Transportation tile.A player may pass on one turn and still play at a later turn.This phase ends once all players have passed consecutively.5) Movement: Each player moves his Boot along as many roads as he wishes and has cards for.The Summary card shows how many cards each transport requires to travel in each terrain type.An Obstacle tile requires 1 additional card of the same type in order for the road to be passed.A player takes his color marker off the board as he goes into each city.Rivers: 1 Raft card is required going downstream; 2 are required for going upstream Ferries: 2 Raft cards are required to follow any of the white dotted water routes on both lakes.Caravans: For any non-water travel, a player may play any 3 cards instead of the specifically required type of cards.If an Obstacle is on the road, then 4 cards are required.6) End of round: Change the Round # card to the next number.Pass the Start Player card to the left.Each player keeps 1 tile and 4 cards, discarding any excess.The tile kept may be left face-down if it was already.Shuffle all used and discarded tiles and cards back into supply.Obstacle tiles are removed from the game.Game End The game ends after the 4th round, or if a player collects all 20 of his markers before the end of the 3rd round.The player who collected the most markers wins.If tied, the player holding the most cards in his hand wins.Variants   use in any combination desired.Town Cards: Each player gets 1 Town card face-down.The goal is to end the game in this town.The player s score is reduced by the number of spaces they are away from it at the end of the game.Shorter game: End the game after the 3rd round.Hand Management: in Phase 1, instead of only refilling up to 8 cards, each player is dealt 8 cards.Players must still discard down to 4 cards at the end of the turn (original Alan Moon rule).Ferries: Mare Magnum ferries require 2 Raft cards (normal rule), while Mare Nebulae ferries only require 1 Raft card.Also, players may use a Caravan (any 3 cards) to cross Mare Nebulae (original Alan Moon rules).\"    \n",
    "\n",
    "def get_rules(text: str) -> List[List[int]]:\n",
    "    text = clean_text(text)\n",
    "    sentences = get_sentences_from_text(text)\n",
    "    \n",
    "    doc = nlp(text, component_cfg = { \"fastcoref\": {'resolve_text': True} })\n",
    "    coref_clusters = doc._.coref_clusters\n",
    "    logger.debug(coref_clusters)\n",
    "    \n",
    "    sentence_clusters = get_sentences_from_clusters(coref_clusters, sentences)\n",
    "    rule_groups = get_rule_groups_from_sentence_clusters(sentences, sentence_clusters)\n",
    "    \n",
    "    return ['. '.join([sentences[s_index].content for s_index in group]) for group in rule_groups]\n",
    "    \n",
    "get_rules(text)"
   ]
  }
 ],
 "metadata": {
  "kernelspec": {
   "display_name": "Python 3 (ipykernel)",
   "language": "python",
   "name": "python3"
  },
  "language_info": {
   "codemirror_mode": {
    "name": "ipython",
    "version": 3
   },
   "file_extension": ".py",
   "mimetype": "text/x-python",
   "name": "python",
   "nbconvert_exporter": "python",
   "pygments_lexer": "ipython3",
   "version": "3.10.6"
  }
 },
 "nbformat": 4,
 "nbformat_minor": 5
}
