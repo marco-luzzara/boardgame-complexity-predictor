{
 "cells": [
  {
   "cell_type": "code",
   "execution_count": 16,
   "id": "3aa4a086-aa20-4def-b17a-3b4ff4fad93f",
   "metadata": {},
   "outputs": [
    {
     "name": "stderr",
     "output_type": "stream",
     "text": [
      "11/04/2022 17:08:54 - INFO - \t missing_keys: []\n",
      "11/04/2022 17:08:54 - INFO - \t unexpected_keys: []\n",
      "11/04/2022 17:08:54 - INFO - \t mismatched_keys: []\n",
      "11/04/2022 17:08:54 - INFO - \t error_msgs: []\n",
      "11/04/2022 17:08:54 - INFO - \t Model Parameters: 90.5M, Transformer: 82.1M, Coref head: 8.4M\n"
     ]
    },
    {
     "data": {
      "text/plain": [
       "<fastcoref.spacy_component.spacy_component.FastCorefResolver at 0x7f010aa36170>"
      ]
     },
     "execution_count": 16,
     "metadata": {},
     "output_type": "execute_result"
    }
   ],
   "source": [
    "from fastcoref import spacy_component\n",
    "import spacy\n",
    "\n",
    "nlp = spacy.load(\"en_core_web_sm\", exclude=[\"parser\", \"lemmatizer\", \"ner\", \"textcat\"])\n",
    "nlp.add_pipe(\"fastcoref\")"
   ]
  },
  {
   "cell_type": "code",
   "execution_count": 17,
   "id": "a4bcea26-c1a3-45fb-845e-98cae3073e85",
   "metadata": {},
   "outputs": [
    {
     "name": "stderr",
     "output_type": "stream",
     "text": [
      "2022-11-04 17:09:51,207 bgg_predict  DEBUG    test\n",
      "11/04/2022 17:09:51 - DEBUG - \t test\n"
     ]
    }
   ],
   "source": [
    "import logging\n",
    "\n",
    "logger = logging.getLogger('bgg_predict')\n",
    "logger.handlers.clear()\n",
    "handler = logging.StreamHandler()\n",
    "formatter = logging.Formatter(\n",
    "        '%(asctime)s %(name)-12s %(levelname)-8s %(message)s')\n",
    "handler.setFormatter(formatter)\n",
    "logger.addHandler(handler)\n",
    "logger.setLevel(logging.DEBUG)\n",
    "\n",
    "logger.debug('test')"
   ]
  },
  {
   "cell_type": "code",
   "execution_count": 18,
   "id": "4caa1a08-119d-4cca-a7fc-61808c35e286",
   "metadata": {},
   "outputs": [],
   "source": [
    "import re\n",
    "from typing import List\n",
    "from dataclasses import dataclass\n",
    "\n",
    "regex_mail = re.compile(r'\\w+(?:\\.\\w+)*?@\\w+(?:\\.\\w+)+')\n",
    "\n",
    "@dataclass\n",
    "class Sentence:\n",
    "    content: str\n",
    "    start: int\n",
    "    end: int\n",
    "    \n",
    "    def does_include_pos(self, pos: int) -> bool:\n",
    "        return self.start <= pos <= self.end\n",
    "\n",
    "def clean_text(text: str) -> str:\n",
    "    return regex_mail.sub('', text)\n",
    "\n",
    "def get_sentences_from_text(text: str) -> List[Sentence]:\n",
    "    # assert no continuous dots because of text cleared while building the dataset\n",
    "    sentences = text.split('.')\n",
    "    \n",
    "    res = []\n",
    "    char_accumulator = 0\n",
    "    for sentence in sentences:\n",
    "        res.append(Sentence(sentence, char_accumulator, char_accumulator + len(sentence) - 1))\n",
    "        char_accumulator += len(sentence) + 1\n",
    "        \n",
    "    if res[-1].content == '':\n",
    "        res.pop()\n",
    "        \n",
    "    return res"
   ]
  },
  {
   "cell_type": "code",
   "execution_count": 19,
   "id": "361b1290-00e4-42f3-85a4-badadb8d574f",
   "metadata": {},
   "outputs": [
    {
     "data": {
      "text/plain": [
       "[[0, 1, 1]]"
      ]
     },
     "execution_count": 19,
     "metadata": {},
     "output_type": "execute_result"
    }
   ],
   "source": [
    "from bisect import bisect_left\n",
    "from typing import List, Tuple\n",
    "from dataclasses import dataclass\n",
    "\n",
    "# necessary to use bisect_left with ranges\n",
    "@dataclass\n",
    "class Interval:\n",
    "    start: int\n",
    "    end: int\n",
    "    \n",
    "    def __lt__(self, other) -> bool:\n",
    "       return self.start < self.end < other.start\n",
    "    \n",
    "    def __eq__(self, other) -> bool:\n",
    "       return self.start <= other.start <= self.end\n",
    "\n",
    "def get_sentences_from_clusters(clusters: List[List[Tuple[int, int]]], sentences: List[Sentence]) -> List[List[int]]:\n",
    "    '''find the sentence each cluster belongs to'''\n",
    "    sentence_clusters = []\n",
    "    for cluster in clusters:\n",
    "        sentence_clusters.append([bisect_left(sentences, Interval(entity[0], entity[1]), key=lambda x: Interval(x.start, x.end)) for entity in cluster])\n",
    "\n",
    "    return sentence_clusters\n",
    "\n",
    "text = 'Alice goes down the rabbit hole. Where she would discover a new reality beyond her expectations.'\n",
    "sentences = get_sentences_from_text(text)\n",
    "clusters = [[(0, 5), (39, 42), (79, 82)]]\n",
    "get_sentences_from_clusters(clusters, sentences)"
   ]
  },
  {
   "cell_type": "code",
   "execution_count": 25,
   "id": "2e53dc33-31ba-4e04-80e6-dc645714fe60",
   "metadata": {},
   "outputs": [],
   "source": [
    "from typing import List, Set\n",
    "from itertools import groupby\n",
    "from operator import itemgetter\n",
    "from scipy.sparse import csr_matrix\n",
    "from scipy.sparse.csgraph import connected_components\n",
    "\n",
    "def get_rule_groups_from_sentence_clusters(sentences: List[Sentence], sentence_clusters: List[List[int]]) -> List[List[int]]:\n",
    "    def normalize_group(group: Set[int]) -> List[List[int]]:\n",
    "        '''each group could contain multiple consecutive sublists. this method split these sublists'''\n",
    "        res = []\n",
    "\n",
    "        # https://stackoverflow.com/a/23861347/5587393\n",
    "        for k, g in groupby(enumerate(sorted(list(group))), lambda x: x[0] - x[1]):\n",
    "            res.append(list(map(itemgetter(1), g)))\n",
    "\n",
    "        return res\n",
    "    # the graph is built as a directed sparse graph where the first element of each cluster\n",
    "    # is connected to the other elements in the same cluster\n",
    "    graph = [[0 for _ in range(len(sentences))] for __ in range(len(sentences))]\n",
    "    for cluster in sentence_clusters:\n",
    "        for sentence in cluster[1:]:\n",
    "            graph[cluster[0]][sentence] = 1\n",
    "\n",
    "    # find the connected components of the graph created from the clusters returned after coref     \n",
    "    graph = csr_matrix(graph)\n",
    "    n_components, labels = connected_components(csgraph=graph, directed=False, return_labels=True)\n",
    "    groups = [set() for _ in range(n_components)]\n",
    "    for i, label in enumerate(labels):\n",
    "        groups[label].add(i)\n",
    "\n",
    "    return [norm_group for group in groups for norm_group in normalize_group(group)]"
   ]
  },
  {
   "cell_type": "code",
   "execution_count": 21,
   "id": "4533f360-2024-4da7-a7b5-53b7afcf385e",
   "metadata": {},
   "outputs": [
    {
     "name": "stdout",
     "output_type": "stream",
     "text": [
      "BoardGame(info=BoardGameInfo(id='10', name='Elfenland', numweights=703, averageweight=2.1579, playingtime=60, minage=10), rulebook='Corrections or constructive criticisms?     Email: delta1119@earthlink.net Michael Weston, 2004 Elfenland Quick Reference Setup 1   Each player chooses a color.Place the Boot on Elvenhold and 1 marker in each other city on the board.2   Shuffle the cards.Deal 8 to each player.3   Place the 4 Round # cards on the board in order with the  1  on top.4   Mix tiles face down.Turn 5 tiles face up.5   Each player gets a Summary card and an Obstacle tile.6   Choose a start player and give them the Start Player card Turn Overview  - each phase starts with the Start Player and goes clockwise.1) Refill everyone s hand back up to 8 cards.2) Each player draws a face-down tile.It is kept secret from other players.3) Each player draws either a face-down or face-up tile, and places it face-up in front of them.If a face-up tile was drawn, replace it.Repeat this until each player has 3 face-up tiles.4) Plan routes: Each player places 1 tile on any road on the board, as long as the type of transport is legal for that terrain.An Obstacle tile may only be placed on a road that already has a Transportation tile.A player may pass on one turn and still play at a later turn.This phase ends once all players have passed consecutively.5) Movement: Each player moves his Boot along as many roads as he wishes and has cards for.The Summary card shows how many cards each transport requires to travel in each terrain type.An Obstacle tile requires 1 additional card of the same type in order for the road to be passed.A player takes his color marker off the board as he goes into each city.Rivers: 1 Raft card is required going downstream; 2 are required for going upstream Ferries: 2 Raft cards are required to follow any of the white dotted water routes on both lakes.Caravans: For any non-water travel, a player may play any 3 cards instead of the specifically required type of cards.If an Obstacle is on the road, then 4 cards are required.6) End of round: Change the Round # card to the next number.Pass the Start Player card to the left.Each player keeps 1 tile and 4 cards, discarding any excess.The tile kept may be left face-down if it was already.Shuffle all used and discarded tiles and cards back into supply.Obstacle tiles are removed from the game.Game End The game ends after the 4th round, or if a player collects all 20 of his markers before the end of the 3rd round.The player who collected the most markers wins.If tied, the player holding the most cards in his hand wins.Variants   use in any combination desired.Town Cards: Each player gets 1 Town card face-down.The goal is to end the game in this town.The player s score is reduced by the number of spaces they are away from it at the end of the game.Shorter game: End the game after the 3rd round.Hand Management: in Phase 1, instead of only refilling up to 8 cards, each player is dealt 8 cards.Players must still discard down to 4 cards at the end of the turn (original Alan Moon rule).Ferries: Mare Magnum ferries require 2 Raft cards (normal rule), while Mare Nebulae ferries only require 1 Raft card.Also, players may use a Caravan (any 3 cards) to cross Mare Nebulae (original Alan Moon rules).')\n"
     ]
    }
   ],
   "source": [
    "from dataclass_csv import DataclassReader\n",
    "from models.BoardGameData import *\n",
    "from extensions.dataclass_csv_extension import *\n",
    "from typing import Type, TypeVar, Generator\n",
    "\n",
    "DataclassType = TypeVar('DataclassType')\n",
    "CSV_PATH = 'data/dataset.csv'\n",
    "\n",
    "def get_dc_from_csv(f, dc_type: Type[DataclassType]) -> Generator[DataclassType, None, None]:\n",
    "    reader = DataclassReader(f, dc_type)\n",
    "    for row in reader:\n",
    "        yield row\n",
    "\n",
    "DataclassReader = extend_DataClassReader_with_nested_dataclass(DataclassReader)\n",
    "with open(CSV_PATH) as f:\n",
    "    print(next(get_dc_from_csv(f, BoardGame)))"
   ]
  },
  {
   "cell_type": "code",
   "execution_count": 27,
   "id": "7d6596cd-3fd1-4e50-9dce-e6c333667182",
   "metadata": {},
   "outputs": [
    {
     "name": "stderr",
     "output_type": "stream",
     "text": [
      "11/04/2022 17:13:36 - INFO - \t Tokenize 1 texts...\n"
     ]
    },
    {
     "data": {
      "application/vnd.jupyter.widget-view+json": {
       "model_id": "29287f93912e48329e1bea33513f125c",
       "version_major": 2,
       "version_minor": 0
      },
      "text/plain": [
       "  0%|          | 0/1 [00:00<?, ?ba/s]"
      ]
     },
     "metadata": {},
     "output_type": "display_data"
    },
    {
     "name": "stderr",
     "output_type": "stream",
     "text": [
      "11/04/2022 17:13:38 - INFO - \t ***** Running Inference on 1 texts *****\n"
     ]
    },
    {
     "data": {
      "application/vnd.jupyter.widget-view+json": {
       "model_id": "468f7b8cd30a47d8a50f012fdc84a01a",
       "version_major": 2,
       "version_minor": 0
      },
      "text/plain": [
       "Inference:   0%|          | 0/1 [00:00<?, ?it/s]"
      ]
     },
     "metadata": {},
     "output_type": "display_data"
    },
    {
     "name": "stderr",
     "output_type": "stream",
     "text": [
      "2022-11-04 17:13:46,108 bgg_predict  DEBUG    [[(0, 10), (223, 237), (371, 385), (413, 427), (526, 540), (1050, 1060), (1098, 1107), (3873, 3882), (4043, 4057), (4487, 4501), (4555, 4569), (5364, 5378), (6750, 6764), (6816, 6820), (6859, 6864), (7408, 7422), (10059, 10073), (10791, 10805), (12411, 12426), (12699, 12709), (16121, 16135), (16433, 16442), (16833, 16842), (17095, 17104), (17358, 17367), (17617, 17631), (17657, 17667), (17723, 17732), (17905, 17914), (18422, 18431), (18528, 18542), (19082, 19096), (19645, 19654)], [(189, 215), (283, 285)], [(133, 163), (313, 325)], [(491, 507), (550, 574), (585, 589)], [(154, 163), (692, 701), (766, 775), (844, 853), (1772, 1781), (4159, 4168), (4384, 4393), (12198, 12207), (17677, 17686), (19535, 19544)], [(678, 701), (752, 775)], [(734, 748), (784, 786), (1895, 1909)], [(648, 674), (796, 815)], [(947, 960), (966, 971)], [(854, 866), (1001, 1013)], [(1247, 1255), (1349, 1359)], [(1389, 1401), (1433, 1438)], [(1453, 1476), (1537, 1547)], [(1831, 1845), (1867, 1869)], [(710, 718), (2022, 2030), (2175, 2183), (2432, 2440), (2594, 2602), (6171, 6179), (12058, 12066), (14440, 14448), (15024, 15032), (16670, 16678), (19325, 19333), (19553, 19561)], [(2383, 2392), (2393, 2397)], [(2461, 2490), (2533, 2563), (6834, 6855)], [(2744, 2754), (2776, 2781), (2850, 2860), (7202, 7212), (7254, 7259)], [(2733, 2759), (2832, 2834), (2838, 2848)], [(2899, 2916), (2963, 2976)], [(3001, 3011), (3017, 3021), (7487, 7497), (7538, 7543), (7585, 7590), (7608, 7612), (7703, 7707), (7769, 7773), (7803, 7808), (7864, 7869), (7883, 7887), (7939, 7949), (7996, 8000), (8054, 8058), (8081, 8086), (10021, 10034), (10074, 10079), (11828, 11838), (11872, 11876), (11916, 11920), (11972, 11983), (12011, 12016), (16170, 16180), (16259, 16263), (18453, 18463), (18476, 18486), (18657, 18661), (18741, 18745)], [(3121, 3129), (3179, 3184)], [(3203, 3207), (3215, 3220), (3227, 3232)], [(3254, 3279), (3286, 3291)], [(3546, 3554), (3616, 3620), (3670, 3674), (3761, 3778)], [(3836, 3882), (3883, 3888), (3987, 3992)], [(4101, 4109), (4121, 4126), (4170, 4174), (4189, 4194), (6257, 6262)], [(4311, 4319), (4365, 4367)], [(4528, 4538), (4545, 4549), (4578, 4582)], [(4684, 4692), (4699, 4703), (4744, 4748)], [(4886, 4986), (4995, 5007), (5065, 5081)], [(4987, 5007), (5012, 5015)], [(4932, 4940), (5321, 5333), (6229, 6241), (6524, 6540)], [(5308, 5333), (5455, 5464)], [(5379, 5425), (5476, 5487)], [(5541, 5558), (5628, 5640), (19214, 19226)], [(5677, 5690), (5736, 5741)], [(5839, 5843), (5880, 5884)], [(5897, 5907), (6016, 6026), (6057, 6061)], [(5950, 5959), (6044, 6053)], [(6087, 6096), (6112, 6117)], [(6180, 6188), (6282, 6292), (6427, 6437), (12829, 12839)], [(6498, 6506), (6633, 6643), (8882, 8895), (8915, 8926), (8945, 8949), (8967, 8971), (8992, 8997), (15268, 15278)], [(6605, 6612), (6644, 6653)], [(6730, 6738), (6793, 6797), (11252, 11257), (13399, 13409), (15479, 15483), (15530, 15543), (17854, 17864)], [(6931, 6939), (6955, 6959), (6965, 6970)], [(6999, 7007), (7038, 7043)], [(6946, 6954), (7038, 7052)], [(7186, 7191), (7219, 7223)], [(7272, 7319), (7301, 7306), (7336, 7340), (9596, 9601)], [(7504, 7519), (7532, 7534), (7626, 7643)], [(8116, 8120), (8215, 8219)], [(8153, 8161), (8220, 8230), (8257, 8262), (8283, 8287), (8324, 8335), (8358, 8362), (8385, 8390), (8445, 8456), (10334, 10344), (10377, 10382), (10400, 10404), (10460, 10478), (12651, 12661), (12723, 12727), (12767, 12772), (14827, 14840), (18887, 18897)], [(8306, 8316), (8411, 8421), (8422, 8432), (8483, 8485)], [(4179, 4185), (8571, 8575)], [(1936, 1955), (8576, 8595)], [(8606, 8640), (8641, 8645)], [(8513, 8521), (8671, 8681), (8698, 8702), (8812, 8816), (19186, 19196)], [(9056, 9064), (9090, 9094), (9144, 9155), (9144, 9176), (9166, 9171), (9166, 9176), (9185, 9188), (9202, 9207), (11322, 11332), (11406, 11410), (13616, 13629)], [(9339, 9347), (9377, 9381), (15784, 15802), (17983, 17993), (18033, 18037), (18071, 18075)], [(9453, 9461), (9524, 9534), (11672, 11682), (13822, 13832), (13890, 13894), (18125, 18137), (18549, 18561)], [(9554, 9558), (9571, 9575)], [(3001, 3016), (9608, 9625)], [(9225, 9235), (9638, 9648)], [(9649, 9657), (9754, 9765)], [(9835, 9841), (9857, 9867), (10010, 10020), (10203, 10213), (10312, 10322), (10441, 10451), (10489, 10495)], [(9928, 9938), (9965, 9970)], [(10100, 10108), (10128, 10132), (12328, 12332), (12430, 12440), (14524, 14530)], [(10021, 10045), (10214, 10228)], [(8167, 8180), (10420, 10435)], [(10505, 10566), (10564, 10566), (10567, 10577)], [(10485, 10501), (10644, 10652)], [(10720, 10726), (10765, 10769)], [(10707, 10715), (10806, 10811), (12935, 12939), (15049, 15057), (17231, 17236), (19253, 19257)], [(10242, 10261), (10858, 10877)], [(10881, 10889), (10896, 10901), (10969, 10974), (15183, 15194), (17308, 17312)], [(10896, 10906), (10907, 10909), (10928, 10931)], [(11036, 11044), (11081, 11085), (11151, 11155), (15394, 15398)], [(11065, 11079), (11169, 11182), (11183, 11196)], [(11287, 11308), (11338, 11348)], [(11300, 11308), (11536, 11548), (19239, 19251), (19698, 19725)], [(11592, 11603), (11715, 11728), (11776, 11789), (11947, 11960)], [(12039, 12050), (12070, 12075)], [(12141, 12149), (12157, 12162), (12220, 12225), (12241, 12245), (16376, 16386), (16448, 16452), (16482, 16492), (16521, 16525), (16546, 16551), (16576, 16580), (16586, 16591)], [(11746, 11775), (12252, 12281)], [(12317, 12323), (12364, 12368)], [(12338, 12363), (12472, 12485)], [(12492, 12503), (12591, 12602), (12743, 12754)], [(12570, 12578), (12613, 12618)], [(12613, 12625), (12767, 12780)], [(12688, 12694), (12791, 12801), (12817, 12827), (12870, 12880), (13015, 13025), (13597, 13607), (15490, 15500), (15640, 15650), (15683, 15693)], [(12999, 13007), (13098, 13108), (13183, 13194), (13210, 13214), (13221, 13225)], [(13050, 13082), (13127, 13146)], [(13252, 13261), (13300, 13309)], [(13027, 13039), (13355, 13367), (13471, 13483), (13541, 13553)], [(9236, 9244), (13651, 13661)], [(13232, 13251), (13760, 13779)], [(13696, 13704), (13800, 13808)], [(13709, 13713), (13812, 13816)], [(7389, 7397), (13997, 14007)], [(13932, 13946), (14017, 14031)], [(14225, 14233), (14244, 14249)], [(14354, 14362), (14381, 14385)], [(14452, 14462), (14519, 14530), (14572, 14582), (14621, 14625)], [(14489, 14545), (14546, 14556)], [(14641, 14649), (14684, 14688), (14710, 14714), (16891, 16895)], [(14720, 14724), (14759, 14763)], [(14959, 14989), (15073, 15077)], [(14973, 14978), (15199, 15209)], [(14983, 14989), (15310, 15320)], [(15554, 15561), (15588, 15592)], [(15611, 15619), (15652, 15656), (15703, 15708)], [(15866, 15873), (15905, 15909), (15926, 15930)], [(15954, 15962), (15991, 15996), (16055, 16059)], [(15972, 16012), (16150, 16158), (16268, 16275)], [(16194, 16212), (16240, 16252)], [(16312, 16321), (16323, 16334), (16586, 16599)], [(16704, 16712), (16734, 16738), (16747, 16752), (16764, 16768), (16822, 16827)], [(16914, 16922), (16930, 16935), (16947, 16952), (18989, 18993), (19029, 19034), (19070, 19074), (19107, 19111)], [(17121, 17129), (17158, 17162)], [(17130, 17137), (17217, 17225)], [(17281, 17289), (17331, 17341)], [(17349, 17351), (17380, 17382)], [(17254, 17270), (17391, 17407), (17468, 17470)], [(2104, 2119), (17575, 17592)], [(17529, 17537), (17594, 17598), (19608, 19618)], [(17637, 17645), (17688, 17692)], [(17552, 17562), (17798, 17812), (17896, 17904), (18571, 18579), (18699, 18707), (19123, 19131)], [(17784, 17814), (17842, 17852), (18282, 18292), (18503, 18513), (18679, 18689), (18753, 18763)], [(17939, 17979), (18003, 18007)], [(18209, 18217), (18245, 18249), (18304, 18308)], [(18157, 18166), (18256, 18260)], [(18125, 18143), (18354, 18364)], [(12282, 12292), (18599, 18611), (18640, 18645)], [(18764, 18779), (18785, 18800)], [(19294, 19301), (19365, 19374), (19396, 19405), (19571, 19580)]]\n",
      "11/04/2022 17:13:46 - DEBUG - \t [[(0, 10), (223, 237), (371, 385), (413, 427), (526, 540), (1050, 1060), (1098, 1107), (3873, 3882), (4043, 4057), (4487, 4501), (4555, 4569), (5364, 5378), (6750, 6764), (6816, 6820), (6859, 6864), (7408, 7422), (10059, 10073), (10791, 10805), (12411, 12426), (12699, 12709), (16121, 16135), (16433, 16442), (16833, 16842), (17095, 17104), (17358, 17367), (17617, 17631), (17657, 17667), (17723, 17732), (17905, 17914), (18422, 18431), (18528, 18542), (19082, 19096), (19645, 19654)], [(189, 215), (283, 285)], [(133, 163), (313, 325)], [(491, 507), (550, 574), (585, 589)], [(154, 163), (692, 701), (766, 775), (844, 853), (1772, 1781), (4159, 4168), (4384, 4393), (12198, 12207), (17677, 17686), (19535, 19544)], [(678, 701), (752, 775)], [(734, 748), (784, 786), (1895, 1909)], [(648, 674), (796, 815)], [(947, 960), (966, 971)], [(854, 866), (1001, 1013)], [(1247, 1255), (1349, 1359)], [(1389, 1401), (1433, 1438)], [(1453, 1476), (1537, 1547)], [(1831, 1845), (1867, 1869)], [(710, 718), (2022, 2030), (2175, 2183), (2432, 2440), (2594, 2602), (6171, 6179), (12058, 12066), (14440, 14448), (15024, 15032), (16670, 16678), (19325, 19333), (19553, 19561)], [(2383, 2392), (2393, 2397)], [(2461, 2490), (2533, 2563), (6834, 6855)], [(2744, 2754), (2776, 2781), (2850, 2860), (7202, 7212), (7254, 7259)], [(2733, 2759), (2832, 2834), (2838, 2848)], [(2899, 2916), (2963, 2976)], [(3001, 3011), (3017, 3021), (7487, 7497), (7538, 7543), (7585, 7590), (7608, 7612), (7703, 7707), (7769, 7773), (7803, 7808), (7864, 7869), (7883, 7887), (7939, 7949), (7996, 8000), (8054, 8058), (8081, 8086), (10021, 10034), (10074, 10079), (11828, 11838), (11872, 11876), (11916, 11920), (11972, 11983), (12011, 12016), (16170, 16180), (16259, 16263), (18453, 18463), (18476, 18486), (18657, 18661), (18741, 18745)], [(3121, 3129), (3179, 3184)], [(3203, 3207), (3215, 3220), (3227, 3232)], [(3254, 3279), (3286, 3291)], [(3546, 3554), (3616, 3620), (3670, 3674), (3761, 3778)], [(3836, 3882), (3883, 3888), (3987, 3992)], [(4101, 4109), (4121, 4126), (4170, 4174), (4189, 4194), (6257, 6262)], [(4311, 4319), (4365, 4367)], [(4528, 4538), (4545, 4549), (4578, 4582)], [(4684, 4692), (4699, 4703), (4744, 4748)], [(4886, 4986), (4995, 5007), (5065, 5081)], [(4987, 5007), (5012, 5015)], [(4932, 4940), (5321, 5333), (6229, 6241), (6524, 6540)], [(5308, 5333), (5455, 5464)], [(5379, 5425), (5476, 5487)], [(5541, 5558), (5628, 5640), (19214, 19226)], [(5677, 5690), (5736, 5741)], [(5839, 5843), (5880, 5884)], [(5897, 5907), (6016, 6026), (6057, 6061)], [(5950, 5959), (6044, 6053)], [(6087, 6096), (6112, 6117)], [(6180, 6188), (6282, 6292), (6427, 6437), (12829, 12839)], [(6498, 6506), (6633, 6643), (8882, 8895), (8915, 8926), (8945, 8949), (8967, 8971), (8992, 8997), (15268, 15278)], [(6605, 6612), (6644, 6653)], [(6730, 6738), (6793, 6797), (11252, 11257), (13399, 13409), (15479, 15483), (15530, 15543), (17854, 17864)], [(6931, 6939), (6955, 6959), (6965, 6970)], [(6999, 7007), (7038, 7043)], [(6946, 6954), (7038, 7052)], [(7186, 7191), (7219, 7223)], [(7272, 7319), (7301, 7306), (7336, 7340), (9596, 9601)], [(7504, 7519), (7532, 7534), (7626, 7643)], [(8116, 8120), (8215, 8219)], [(8153, 8161), (8220, 8230), (8257, 8262), (8283, 8287), (8324, 8335), (8358, 8362), (8385, 8390), (8445, 8456), (10334, 10344), (10377, 10382), (10400, 10404), (10460, 10478), (12651, 12661), (12723, 12727), (12767, 12772), (14827, 14840), (18887, 18897)], [(8306, 8316), (8411, 8421), (8422, 8432), (8483, 8485)], [(4179, 4185), (8571, 8575)], [(1936, 1955), (8576, 8595)], [(8606, 8640), (8641, 8645)], [(8513, 8521), (8671, 8681), (8698, 8702), (8812, 8816), (19186, 19196)], [(9056, 9064), (9090, 9094), (9144, 9155), (9144, 9176), (9166, 9171), (9166, 9176), (9185, 9188), (9202, 9207), (11322, 11332), (11406, 11410), (13616, 13629)], [(9339, 9347), (9377, 9381), (15784, 15802), (17983, 17993), (18033, 18037), (18071, 18075)], [(9453, 9461), (9524, 9534), (11672, 11682), (13822, 13832), (13890, 13894), (18125, 18137), (18549, 18561)], [(9554, 9558), (9571, 9575)], [(3001, 3016), (9608, 9625)], [(9225, 9235), (9638, 9648)], [(9649, 9657), (9754, 9765)], [(9835, 9841), (9857, 9867), (10010, 10020), (10203, 10213), (10312, 10322), (10441, 10451), (10489, 10495)], [(9928, 9938), (9965, 9970)], [(10100, 10108), (10128, 10132), (12328, 12332), (12430, 12440), (14524, 14530)], [(10021, 10045), (10214, 10228)], [(8167, 8180), (10420, 10435)], [(10505, 10566), (10564, 10566), (10567, 10577)], [(10485, 10501), (10644, 10652)], [(10720, 10726), (10765, 10769)], [(10707, 10715), (10806, 10811), (12935, 12939), (15049, 15057), (17231, 17236), (19253, 19257)], [(10242, 10261), (10858, 10877)], [(10881, 10889), (10896, 10901), (10969, 10974), (15183, 15194), (17308, 17312)], [(10896, 10906), (10907, 10909), (10928, 10931)], [(11036, 11044), (11081, 11085), (11151, 11155), (15394, 15398)], [(11065, 11079), (11169, 11182), (11183, 11196)], [(11287, 11308), (11338, 11348)], [(11300, 11308), (11536, 11548), (19239, 19251), (19698, 19725)], [(11592, 11603), (11715, 11728), (11776, 11789), (11947, 11960)], [(12039, 12050), (12070, 12075)], [(12141, 12149), (12157, 12162), (12220, 12225), (12241, 12245), (16376, 16386), (16448, 16452), (16482, 16492), (16521, 16525), (16546, 16551), (16576, 16580), (16586, 16591)], [(11746, 11775), (12252, 12281)], [(12317, 12323), (12364, 12368)], [(12338, 12363), (12472, 12485)], [(12492, 12503), (12591, 12602), (12743, 12754)], [(12570, 12578), (12613, 12618)], [(12613, 12625), (12767, 12780)], [(12688, 12694), (12791, 12801), (12817, 12827), (12870, 12880), (13015, 13025), (13597, 13607), (15490, 15500), (15640, 15650), (15683, 15693)], [(12999, 13007), (13098, 13108), (13183, 13194), (13210, 13214), (13221, 13225)], [(13050, 13082), (13127, 13146)], [(13252, 13261), (13300, 13309)], [(13027, 13039), (13355, 13367), (13471, 13483), (13541, 13553)], [(9236, 9244), (13651, 13661)], [(13232, 13251), (13760, 13779)], [(13696, 13704), (13800, 13808)], [(13709, 13713), (13812, 13816)], [(7389, 7397), (13997, 14007)], [(13932, 13946), (14017, 14031)], [(14225, 14233), (14244, 14249)], [(14354, 14362), (14381, 14385)], [(14452, 14462), (14519, 14530), (14572, 14582), (14621, 14625)], [(14489, 14545), (14546, 14556)], [(14641, 14649), (14684, 14688), (14710, 14714), (16891, 16895)], [(14720, 14724), (14759, 14763)], [(14959, 14989), (15073, 15077)], [(14973, 14978), (15199, 15209)], [(14983, 14989), (15310, 15320)], [(15554, 15561), (15588, 15592)], [(15611, 15619), (15652, 15656), (15703, 15708)], [(15866, 15873), (15905, 15909), (15926, 15930)], [(15954, 15962), (15991, 15996), (16055, 16059)], [(15972, 16012), (16150, 16158), (16268, 16275)], [(16194, 16212), (16240, 16252)], [(16312, 16321), (16323, 16334), (16586, 16599)], [(16704, 16712), (16734, 16738), (16747, 16752), (16764, 16768), (16822, 16827)], [(16914, 16922), (16930, 16935), (16947, 16952), (18989, 18993), (19029, 19034), (19070, 19074), (19107, 19111)], [(17121, 17129), (17158, 17162)], [(17130, 17137), (17217, 17225)], [(17281, 17289), (17331, 17341)], [(17349, 17351), (17380, 17382)], [(17254, 17270), (17391, 17407), (17468, 17470)], [(2104, 2119), (17575, 17592)], [(17529, 17537), (17594, 17598), (19608, 19618)], [(17637, 17645), (17688, 17692)], [(17552, 17562), (17798, 17812), (17896, 17904), (18571, 18579), (18699, 18707), (19123, 19131)], [(17784, 17814), (17842, 17852), (18282, 18292), (18503, 18513), (18679, 18689), (18753, 18763)], [(17939, 17979), (18003, 18007)], [(18209, 18217), (18245, 18249), (18304, 18308)], [(18157, 18166), (18256, 18260)], [(18125, 18143), (18354, 18364)], [(12282, 12292), (18599, 18611), (18640, 18645)], [(18764, 18779), (18785, 18800)], [(19294, 19301), (19365, 19374), (19396, 19405), (19571, 19580)]]\n"
     ]
    },
    {
     "name": "stdout",
     "output_type": "stream",
     "text": [
      "94\n"
     ]
    }
   ],
   "source": [
    "import itertools\n",
    "from models.BoardGameFeatures import *\n",
    "\n",
    "def get_rules(text: str) -> List[List[int]]:\n",
    "    text = clean_text(text)\n",
    "    sentences = get_sentences_from_text(text)\n",
    "    \n",
    "    doc = nlp(text, component_cfg = { \"fastcoref\": {'resolve_text': True} })\n",
    "    coref_clusters = doc._.coref_clusters\n",
    "    logger.debug(coref_clusters)\n",
    "    \n",
    "    sentence_clusters = get_sentences_from_clusters(coref_clusters, sentences)\n",
    "    rule_groups = get_rule_groups_from_sentence_clusters(sentences, sentence_clusters)\n",
    "    \n",
    "    return ['. '.join([sentences[s_index].content for s_index in group]) for group in rule_groups]\n",
    "\n",
    "bgs_with_features = []\n",
    "with open(CSV_PATH) as f:\n",
    "    bg = next(itertools.islice(get_dc_from_csv(f, BoardGame), 2, None))\n",
    "    rules = get_rules(bg.rulebook)\n",
    "    rule_count = len(rules)\n",
    "    bgs_with_features.append(BoardGameFeatures(averageweight=bg.averageweight,\n",
    "                                               playingtime=bg.playingtime,\n",
    "                                               family=bg.family,\n",
    "                                               rule_count=rule_count,\n",
    "                                               average_rule_len=bg.rulebook / rule_count\n",
    "                                              )\n",
    "                            )\n",
    "    \n",
    "bgs_with_features"
   ]
  }
 ],
 "metadata": {
  "kernelspec": {
   "display_name": "Python 3 (ipykernel)",
   "language": "python",
   "name": "python3"
  },
  "language_info": {
   "codemirror_mode": {
    "name": "ipython",
    "version": 3
   },
   "file_extension": ".py",
   "mimetype": "text/x-python",
   "name": "python",
   "nbconvert_exporter": "python",
   "pygments_lexer": "ipython3",
   "version": "3.10.6"
  }
 },
 "nbformat": 4,
 "nbformat_minor": 5
}
