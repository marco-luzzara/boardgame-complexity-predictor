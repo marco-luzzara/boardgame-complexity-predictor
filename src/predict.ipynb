{
 "cells": [
  {
   "cell_type": "code",
   "execution_count": null,
   "id": "a35393f7-8194-40e0-b81a-3ecb9faabec8",
   "metadata": {},
   "outputs": [],
   "source": [
    "import pandas as pd\n",
    "import os\n",
    "WORKING_LOCALLY = bool(os.getenv('WORKING_LOCALLY'))\n",
    "\n",
    "PROCESSED_DATASET_FILE_PATH = 'data/processed_dataset.csv' if WORKING_LOCALLY \\\n",
    "    else '/content/drive/My Drive/Projects/IRBoardGameComplexity/processed_dataset.csv'\n",
    "\n",
    "if not WORKING_LOCALLY:\n",
    "    drive.mount('/content/drive')\n",
    "\n",
    "df_features = pd.read_csv(PROCESSED_DATASET_FILE_PATH)\n",
    "df_features.head()"
   ]
  },
  {
   "cell_type": "code",
   "execution_count": null,
   "id": "a25c5219-d876-40d2-9626-b468ea11e635",
   "metadata": {},
   "outputs": [],
   "source": [
    "TRAIN_PERCENT = 0.75\n",
    "DATASET_SIZE = len(df_features)\n",
    "TRAIN_SET_SIZE = int(DATASET_SIZE * TRAIN_PERCENT)\n",
    "\n",
    "y_train, x_train = df_features.iloc[:TRAIN_SET_SIZE, 0], df_features.iloc[:TRAIN_SET_SIZE, 1:]\n",
    "y_test, x_test = df_features.iloc[TRAIN_SET_SIZE:, 0], df_features.iloc[TRAIN_SET_SIZE:, 1:]\n",
    "\n",
    "class Model:\n",
    "    def __init__(self, instance):\n",
    "        self.instance = instance\n",
    "        self.name = instance.__class__.__name__"
   ]
  },
  {
   "cell_type": "code",
   "execution_count": null,
   "id": "6865fbf2-9a6e-4a50-b00b-ffe7e7f44f77",
   "metadata": {},
   "outputs": [],
   "source": [
    "import numpy as np\n",
    "import matplotlib.pyplot as plt\n",
    "from sklearn import linear_model\n",
    "from sklearn.metrics import r2_score\n",
    "\n",
    "MIN_COMPLEXITY, MAX_COMPLEXITY = 0, 5\n",
    "\n",
    "def create_graph(index: int, title: str, y_test, predictions) -> None:\n",
    "    plt.figure(index) \n",
    "    plt.title(title)\n",
    "    plt.axis([MIN_COMPLEXITY, MAX_COMPLEXITY, MIN_COMPLEXITY, MAX_COMPLEXITY])\n",
    "    plt.grid(True)\n",
    "    plt.plot(y_test, predictions, 'ro', [MIN_COMPLEXITY, MAX_COMPLEXITY], [MIN_COMPLEXITY, MAX_COMPLEXITY])\n",
    "\n",
    "models = [\n",
    "    Model(linear_model.LinearRegression()),\n",
    "    Model(linear_model.LassoCV()),\n",
    "    Model(linear_model.ElasticNetCV()),\n",
    "    Model(linear_model.RidgeCV())\n",
    "    ]\n",
    "\n",
    "results = pd.DataFrame(columns=['Model', 'Score'])\n",
    "for i, model in enumerate(models):\n",
    "    estimator = model.instance.fit(x_train, y_train)\n",
    "    predictions = model.instance.predict(x_test)\n",
    "    results = pd.concat([results, pd.DataFrame([\n",
    "        { 'Model': model.name, 'Score': r2_score(y_test, predictions) }\n",
    "        ])])\n",
    "    create_graph(i, model.name, y_test, predictions)\n",
    "\n",
    "results"
   ]
  }
 ],
 "metadata": {
  "kernelspec": {
   "display_name": "Python 3 (ipykernel)",
   "language": "python",
   "name": "python3"
  },
  "language_info": {
   "codemirror_mode": {
    "name": "ipython",
    "version": 3
   },
   "file_extension": ".py",
   "mimetype": "text/x-python",
   "name": "python",
   "nbconvert_exporter": "python",
   "pygments_lexer": "ipython3",
   "version": "3.10.6"
  }
 },
 "nbformat": 4,
 "nbformat_minor": 5
}
