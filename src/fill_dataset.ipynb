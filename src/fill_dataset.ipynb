{
 "cells": [
  {
   "cell_type": "code",
   "execution_count": 33,
   "id": "12805b26-4c7c-46c4-806f-fd34eaa7af51",
   "metadata": {},
   "outputs": [],
   "source": [
    "from dataclasses import dataclass\n",
    "import re\n",
    "\n",
    "tag_removal_pattern = re.compile('<[^<]+?>')\n",
    "\n",
    "@dataclass\n",
    "class BoardGameFileInfo:\n",
    "    id: int\n",
    "    name: str\n",
    "    description: str\n",
    "    extension: str\n",
    "    \n",
    "    @staticmethod\n",
    "    def from_file_info(file_info: Dict[str, Any]):\n",
    "        rendered_description = file_info['description']['rendered']\n",
    "        # the description contains HTML tags that are removed with this regex\n",
    "        description = tag_removal_pattern.sub('', rendered_description)\n",
    "        filename, extension = file_info['filename'].rsplit('.', 1)\n",
    "        return BoardGameFileInfo(file_info['filepageid'],\n",
    "                                 filename,\n",
    "                                 description,\n",
    "                                 extension.lower()\n",
    "                                )"
   ]
  },
  {
   "cell_type": "code",
   "execution_count": 34,
   "id": "8be6f854-7ec2-40a3-9073-4c5ed31628d2",
   "metadata": {},
   "outputs": [
    {
     "name": "stdout",
     "output_type": "stream",
     "text": [
      "[BoardGameFileInfo(id='20733', name='Die Macher Brief by Liumas 2015-01', description=\"Turn sequence, setup, and symbol descriptions.This new 'FINAL' version is all PDF and easier to print and cut out using the guidelines.\", extension='pdf'), BoardGameFileInfo(id='23411', name='Die Macher Condensed Rules by Liumas 2015-01', description='Complete 3rd Edition rules condensed onto 6 pages, sans Comic Sans.', extension='pdf'), BoardGameFileInfo(id='44870', name='Die Macher player aide_BW', description='Die Macher player aide black & white', extension='pdf'), BoardGameFileInfo(id='23811', name='Die Macher Best Options by Liumas 2015-01', description='The standard official rules updates for 2nd and 3rd editions.', extension='pdf'), BoardGameFileInfo(id='12795', name='playeraid front', description='Summary of a round, and illustration of major items in game..perfect for learners. Print on A4 landscape, and printplayeraidback on reverse', extension='pdf'), BoardGameFileInfo(id='29520', name='Die Macher Score Board by Liumas 2015-01', description='Large score board for everyone to see the running score of all parties. Create the feel of a real election as everyone publicly watches the returns trickle in.', extension='pdf'), BoardGameFileInfo(id='12796', name='playeraid back', description='print on reverse side of playeraid front.pdf  ... by wizardless', extension='pdf'), BoardGameFileInfo(id='183031', name='Macher_Rules_EN - web compressed', description='Die Macher - LIMITED EDITION - English rulesStronghold Games/Spielworxx edition', extension='pdf'), BoardGameFileInfo(id='82459', name='DieMacherScoreSheets', description='These are scoresheets for DieMacher (in English), in full color. Easier to use than the black and white ones that come with the game. When you run out of the originals, just print more!', extension='pdf'), BoardGameFileInfo(id='22536', name='ConciseRefSheet19 - Die Macher', description='Reference sheet useful for quick referencing and provides a structured summary for teaching the game.If you are interested in ref sheets for other games that I’ve made (&gt;250), a complete set is available at my boardgame blog, http://hiewandboardgames.blogspot.com/2010/12/concise-refere...', extension='pdf'), BoardGameFileInfo(id='114069', name='Die Macher Parties by Liumas 2015-01', description='The 5 political parties explained in detail, each on 1 page.', extension='pdf'), BoardGameFileInfo(id='139342', name='Die Macher Mats', description='Mats for use organizing your play area. Makes it easier to look at the table and identify players by color and everyone will have their party programs in the same place.', extension='pdf'), BoardGameFileInfo(id='61390', name='D_M_Variant', description='This re-introduces some 1st Edition rules, the biggest of which are changes to the number of Party Policy cards and how Party platforms are changed. Also includes a couple of variants designed by Derek Carver about turn order bidding and scoring for money left at the end of the game.', extension='pdf'), BoardGameFileInfo(id='28201', name='Understanding_Die_Macher_BW', description='A visual player aid to help understand how the elements of the game relate to one another. Line widths changed according to their colors for black & white printing.', extension='pdf'), BoardGameFileInfo(id='159707', name='Die Macher - Player Aid', description='2-page aid covering setup and game play.  Iconography is from the German edition.  For any rules differences, I followed the latest 3rd edition rules.', extension='pdf'), BoardGameFileInfo(id='43949', name='Die Macher Oz 2.0', description=\"New artwork for 'Amnese's' Macca variant. For an illustration of the new components see the images section.The public opinion cards now have a 'crowd silhouette' at the lower half to identify that set from the party platform cards.\", extension='pdf'), BoardGameFileInfo(id='109238', name=\"Regex' Horizontal Tuckbox Set for Sleeved Die Macher3\", description=\"This is a box set with a special horizontal design suitable for sleeved cards that would help you store your sleeved cards (standard Mayday thickness).The boxes also feature a nice graphics design with content list on each box.Make sure you do not print from the browser preview and you disable fit to page - the file uses A4 file size.Get more of my horizontal designs here: Regex' horizontal tuckbox series for sleeved cards.\", extension='pdf'), BoardGameFileInfo(id='149544', name='DieMacherRules', description='The original rules in english of the first edition of the game in pdf extension', extension='pdf')]\n"
     ]
    }
   ],
   "source": [
    "import aiohttp\n",
    "from typing import Any, Dict, List\n",
    "\n",
    "async def get_boardgamegeek_filelist(client, thing_id: int) -> List[BoardGameFileInfo]:\n",
    "    url = f\"https://api.geekdo.com/api/files?ajax=1&nosession=1&objectid={thing_id}&objecttype=thing&pageid=1&showcount=25&sort=hot&languageid=2184\"\n",
    "    async with client.get(url) as response:\n",
    "        content = await response.json()\n",
    "        files = content['files']\n",
    "        file_list = filter(lambda x: x.extension == 'pdf', [BoardGameFileInfo.from_file_info(file) for file in files])\n",
    "        return file_list\n",
    "\n",
    "async with aiohttp.ClientSession() as client:\n",
    "    print(list(await get_boardgamegeek_filelist(client, 1)))"
   ]
  },
  {
   "cell_type": "code",
   "execution_count": 36,
   "id": "45cec8ad-f920-4666-8659-9c922fa72dd5",
   "metadata": {},
   "outputs": [
    {
     "name": "stdout",
     "output_type": "stream",
     "text": [
      "BoardGameFileInfo(id='23811', name='Die Macher Best Options by Liumas 2015-01', description='The standard official rules updates for 2nd and 3rd editions.', extension='pdf')\n"
     ]
    }
   ],
   "source": [
    "from string import punctuation\n",
    "import spacy\n",
    "from sklearn.feature_extraction.text import TfidfVectorizer\n",
    "from sklearn.metrics.pairwise import cosine_similarity\n",
    "\n",
    "nlp = spacy.load('en_core_web_sm')\n",
    "\n",
    "async def get_rulebook(client, thing_id: int) -> BoardGameFileInfo:\n",
    "    def tokenizer(raw_doc: str):\n",
    "        doc = nlp(raw_doc)\n",
    "        lemmas = (token.lemma_ for token in doc if token.lemma_ not in punctuation)\n",
    "        return filter(lambda x: not nlp.vocab[x].is_stop, lemmas)\n",
    "    \n",
    "    raw_docs = [x for x in await get_boardgamegeek_filelist(client, thing_id)]\n",
    "    if len(raw_docs) == 0:\n",
    "        return None\n",
    "    vectorizer = TfidfVectorizer(strip_accents='ascii', lowercase=True, tokenizer=tokenizer)\n",
    "    doc_vectors = vectorizer.fit_transform(f'{x.name} {x.description}' for x in raw_docs)\n",
    "\n",
    "    query_vector = vectorizer.transform([\"revised official rule rulebook update new\"])\n",
    "    docs_ranked = cosine_similarity(query_vector, doc_vectors)\n",
    "\n",
    "    return next(raw_docs[i] for i, score in sorted(enumerate(docs_ranked[0]), key=lambda x: -x[1]))\n",
    "\n",
    "async with aiohttp.ClientSession() as client:\n",
    "    print(await get_rulebook(client, 1))"
   ]
  },
  {
   "cell_type": "code",
   "execution_count": 38,
   "id": "6e0294e0-0638-4ac0-ad24-df67b00e1b76",
   "metadata": {},
   "outputs": [],
   "source": [
    "from dataclasses import dataclass\n",
    "import xml.etree.ElementTree as xe\n",
    "\n",
    "@dataclass\n",
    "class BoardGameInfo:\n",
    "    id: int\n",
    "    name: str\n",
    "    numweights: int\n",
    "    averageweight: float\n",
    "    rulebook: BoardGameFileInfo\n",
    "    \n",
    "    @staticmethod\n",
    "    async def build(item: xe, client):\n",
    "        id = item.attrib['id']\n",
    "        name = item.find('./name[@type=\\'primary\\']').attrib['value']\n",
    "        ratings = item.find('./statistics/ratings')\n",
    "        \n",
    "        return BoardGameInfo(id, \n",
    "                             name, \n",
    "                             ratings.find('./numweights').attrib['value'], \n",
    "                             ratings.find('./averageweight').attrib['value'],\n",
    "                             await get_rulebook(client, id)\n",
    "                            ) \n",
    "    "
   ]
  },
  {
   "cell_type": "code",
   "execution_count": 39,
   "id": "5298c018-375a-4105-b6ac-2e1adff08ef9",
   "metadata": {},
   "outputs": [],
   "source": [
    "import aiohttp\n",
    "import asyncio\n",
    "\n",
    "bgg_api_root = 'https://boardgamegeek.com/xmlapi2'\n",
    "\n",
    "async def fill_dataset():\n",
    "    async with aiohttp.ClientSession() as client:\n",
    "        async def get_boardgamegeek_thing(*thing_ids):\n",
    "            url = f'{bgg_api_root}/thing?id={\",\".join(str(x) for x in thing_ids)}&type=boardgame&pagesize=100&stats=1'\n",
    "            async with client.get(url) as response:\n",
    "                assert response.status == 200\n",
    "                return (await response.read()).decode('utf-8')\n",
    "        \n",
    "        async def get_bg_info(*thing_ids):    \n",
    "            '''\n",
    "            get a list of `BoardGameInfo` that corresponds to the thing_ids requested. The list could be smaller than `len(thing_ids)`\n",
    "            because filtered using `type=boardgame` and there must be at least one vote about weight\n",
    "            '''\n",
    "            assert len(thing_ids) <= 100\n",
    "\n",
    "            items = xe.fromstring(await get_boardgamegeek_thing(*thing_ids))\n",
    "            bg_infos = await asyncio.gather(*[BoardGameInfo.build(item, client) for item in items])\n",
    "\n",
    "            return bg_infos\n",
    "        \n",
    "        file_lock = asyncio.Lock()\n",
    "        with open('data/dataset.txt', 'w') as f_out:\n",
    "            async def write_bg_info_on_file(*thing_ids):\n",
    "                bg_infos = await get_bg_info(*thing_ids)\n",
    "                async with file_lock:\n",
    "                    f_out.write('\\n'.join(map(str, bg_infos)) + '\\n')\n",
    "                    \n",
    "            await asyncio.gather(*[write_bg_info_on_file(*[x + 100 * i for x in range(100)]) for i in range(2)])\n",
    "                \n",
    "    \n",
    "await fill_dataset()"
   ]
  },
  {
   "cell_type": "code",
   "execution_count": null,
   "id": "d0d6ed03-83ec-4e4d-9a16-39cb5d874b6f",
   "metadata": {},
   "outputs": [],
   "source": []
  }
 ],
 "metadata": {
  "kernelspec": {
   "display_name": "Python 3 (ipykernel)",
   "language": "python",
   "name": "python3"
  },
  "language_info": {
   "codemirror_mode": {
    "name": "ipython",
    "version": 3
   },
   "file_extension": ".py",
   "mimetype": "text/x-python",
   "name": "python",
   "nbconvert_exporter": "python",
   "pygments_lexer": "ipython3",
   "version": "3.10.6"
  }
 },
 "nbformat": 4,
 "nbformat_minor": 5
}
