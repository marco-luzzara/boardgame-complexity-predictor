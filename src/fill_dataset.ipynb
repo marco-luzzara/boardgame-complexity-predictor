{
 "cells": [
  {
   "cell_type": "code",
   "execution_count": 66,
   "id": "12805b26-4c7c-46c4-806f-fd34eaa7af51",
   "metadata": {},
   "outputs": [],
   "source": [
    "from dataclasses import dataclass\n",
    "import re\n",
    "from typing import Any, Dict\n",
    "\n",
    "tag_removal_pattern = re.compile('<[^<]+?>')\n",
    "\n",
    "@dataclass\n",
    "class BoardGameFileInfo:\n",
    "    id: int\n",
    "    name: str\n",
    "    description: str\n",
    "    extension: str\n",
    "    \n",
    "    @staticmethod\n",
    "    def from_file_info(file_info: Dict[str, Any]):\n",
    "        rendered_description = file_info['description']['rendered']\n",
    "        # the description contains HTML tags that are removed with this regex\n",
    "        description = tag_removal_pattern.sub('', rendered_description)\n",
    "        filename, extension = file_info['filename'].rsplit('.', 1)\n",
    "        return BoardGameFileInfo(file_info['fileid'],\n",
    "                                 filename,\n",
    "                                 description,\n",
    "                                 extension.lower()\n",
    "                                )"
   ]
  },
  {
   "cell_type": "code",
   "execution_count": 67,
   "id": "8be6f854-7ec2-40a3-9073-4c5ed31628d2",
   "metadata": {},
   "outputs": [
    {
     "name": "stdout",
     "output_type": "stream",
     "text": [
      "[BoardGameFileInfo(id='140639', name='Die Macher Brief by Liumas 2015-01', description=\"Turn sequence, setup, and symbol descriptions.This new 'FINAL' version is all PDF and easier to print and cut out using the guidelines.\", extension='pdf'), BoardGameFileInfo(id='139190', name='Die Macher Condensed Rules by Liumas 2015-01', description='Complete 3rd Edition rules condensed onto 6 pages, sans Comic Sans.', extension='pdf'), BoardGameFileInfo(id='62318', name='Die Macher player aide_BW', description='Die Macher player aide black & white', extension='pdf')]\n"
     ]
    }
   ],
   "source": [
    "import aiohttp\n",
    "from typing import List\n",
    "\n",
    "internal_bgg_api = 'https://api.geekdo.com/api'\n",
    "\n",
    "async def get_bgg_filelist(client, thing_id: int) -> List[BoardGameFileInfo]:\n",
    "    url = f\"{internal_bgg_api}/files?ajax=1&nosession=1&objectid={thing_id}&objecttype=thing&pageid=1&showcount=25&sort=hot&languageid=2184\"\n",
    "    async with client.get(url) as response:\n",
    "        content = await response.json()\n",
    "        files = content['files']\n",
    "        file_list = filter(lambda x: x.extension == 'pdf', [BoardGameFileInfo.from_file_info(file) for file in files])\n",
    "        return file_list\n",
    "\n",
    "async with aiohttp.ClientSession() as client:\n",
    "    print(list(await get_bgg_filelist(client, 1))[0:3])"
   ]
  },
  {
   "cell_type": "code",
   "execution_count": 68,
   "id": "45cec8ad-f920-4666-8659-9c922fa72dd5",
   "metadata": {},
   "outputs": [
    {
     "name": "stdout",
     "output_type": "stream",
     "text": [
      "BoardGameFileInfo(id='139185', name='Die Macher Best Options by Liumas 2015-01', description='The standard official rules updates for 2nd and 3rd editions.', extension='pdf')\n"
     ]
    }
   ],
   "source": [
    "from string import punctuation\n",
    "import spacy\n",
    "from sklearn.feature_extraction.text import TfidfVectorizer\n",
    "from sklearn.metrics.pairwise import cosine_similarity\n",
    "\n",
    "nlp = spacy.load('en_core_web_sm')\n",
    "\n",
    "async def get_rulebook_info(client, thing_id: int) -> BoardGameFileInfo:\n",
    "    '''return the rulebook info or None if the boardgame has no rulebook'''\n",
    "    def tokenizer(raw_doc: str):\n",
    "        doc = nlp(raw_doc)\n",
    "        lemmas = (token.lemma_ for token in doc if token.lemma_ not in punctuation)\n",
    "        return filter(lambda x: not nlp.vocab[x].is_stop, lemmas)\n",
    "    \n",
    "    raw_docs = [x for x in await get_boardgamegeek_filelist(client, thing_id)]\n",
    "    if len(raw_docs) == 0:\n",
    "        return None\n",
    "    vectorizer = TfidfVectorizer(strip_accents='ascii', lowercase=True, tokenizer=tokenizer)\n",
    "    doc_vectors = vectorizer.fit_transform(f'{x.name} {x.description}' for x in raw_docs)\n",
    "\n",
    "    query_vector = vectorizer.transform([\"revised official rule rulebook update new\"])\n",
    "    docs_ranked = cosine_similarity(query_vector, doc_vectors)\n",
    "\n",
    "    return next(raw_docs[i] for i, score in sorted(enumerate(docs_ranked[0]), key=lambda x: -x[1]))\n",
    "\n",
    "async with aiohttp.ClientSession() as client:\n",
    "    print(await get_rulebook_info(client, 1))"
   ]
  },
  {
   "cell_type": "code",
   "execution_count": 69,
   "id": "9022f324-d10e-4fd9-b9fb-8b7190da60fc",
   "metadata": {},
   "outputs": [
    {
     "name": "stdout",
     "output_type": "stream",
     "text": [
      "https://boardgamegeek.com/file/download_redirect/92b54722954ab9ac413689c8793f78b67e10682c02c552f8/Die+Macher+Brief+by+Liumas+2015-01.pdf\n"
     ]
    }
   ],
   "source": [
    "import os\n",
    "from datetime import datetime, timedelta\n",
    "\n",
    "bggusername = os.getenv('BGGUSERNAME')\n",
    "bggpassword = os.getenv('BGGPASSWORD')\n",
    "\n",
    "async def boardgamegeek_authenticate(client, bggusername: str, bggpassword: str) -> str:\n",
    "    '''returns the auth token'''\n",
    "    url = 'https://boardgamegeek.com/api/accounts/current'\n",
    "    headers = { 'cookie': f'bggusername={bggusername}; bggpassword={bggpassword}' }\n",
    "    async with client.get(url, headers=headers) as response:\n",
    "        content = await response.json()\n",
    "        return content['authToken']\n",
    "\n",
    "async def get_file_content(client, auth_token: str, file: BoardGameFileInfo) -> str:\n",
    "    url = f'{internal_bgg_api}/files/downloadurls?ids={file.id}' \n",
    "    headers = { 'Authorization': f'GeekAuth {auth_token}' }\n",
    "    async with client.get(url, headers=headers) as response:\n",
    "        content = await response.json()\n",
    "        download_url = 'https://boardgamegeek.com' + content['downloadUrls'][0]['url']\n",
    "        return download_url\n",
    "                  \n",
    "async with aiohttp.ClientSession() as client:\n",
    "    try:\n",
    "        if token_expire <= datetime.now():\n",
    "            raise NameError\n",
    "    except NameError:\n",
    "        token_expire = datetime.now() + timedelta(hours=2)\n",
    "        token = await boardgamegeek_authenticate(client, bggusername, bggpassword)\n",
    "    file = list(await get_boardgamegeek_filelist(client, 1))[0]\n",
    "    print(await get_file_content(client, token, file))"
   ]
  },
  {
   "cell_type": "code",
   "execution_count": 70,
   "id": "6e0294e0-0638-4ac0-ad24-df67b00e1b76",
   "metadata": {},
   "outputs": [],
   "source": [
    "from dataclasses import dataclass\n",
    "import xml.etree.ElementTree as xe\n",
    "\n",
    "@dataclass\n",
    "class BoardGameInfo:\n",
    "    id: int\n",
    "    name: str\n",
    "    numweights: int\n",
    "    averageweight: float\n",
    "    \n",
    "    @staticmethod\n",
    "    def from_item(item: xe):\n",
    "        id = item.attrib['id']\n",
    "        name = item.find('./name[@type=\\'primary\\']').attrib['value']\n",
    "        ratings = item.find('./statistics/ratings')\n",
    "        \n",
    "        return BoardGameInfo(id, \n",
    "                             name, \n",
    "                             int(ratings.find('./numweights').attrib['value']), \n",
    "                             float(ratings.find('./averageweight').attrib['value']),\n",
    "                            )\n",
    "    \n",
    "@dataclass\n",
    "class BoardGame:\n",
    "    info: BoardGameInfo\n",
    "    rulebook: str\n",
    "    "
   ]
  },
  {
   "cell_type": "code",
   "execution_count": 71,
   "id": "5298c018-375a-4105-b6ac-2e1adff08ef9",
   "metadata": {},
   "outputs": [],
   "source": [
    "import aiohttp\n",
    "import asyncio\n",
    "from typing import List\n",
    "\n",
    "bgg_api_root = 'https://boardgamegeek.com/xmlapi2'\n",
    "\n",
    "async def fill_dataset():\n",
    "    async with aiohttp.ClientSession() as client:\n",
    "        async def get_boardgamegeek_thing(*thing_ids) -> str:\n",
    "            url = f'{bgg_api_root}/thing?id={\",\".join(str(x) for x in thing_ids)}&type=boardgame&pagesize=100&stats=1'\n",
    "            async with client.get(url) as response:\n",
    "                assert response.status == 200\n",
    "                return (await response.read()).decode('utf-8')\n",
    "            \n",
    "        async def get_bg(bg_info: BoardGameInfo) -> BoardGame:\n",
    "            thing_id = bg_info.id\n",
    "            fileinfo = await get_rulebook_info(client, thing_id)\n",
    "            return BoardGame(bg_info, '' if fileinfo is None else await get_file_content(client, token, fileinfo))\n",
    "        \n",
    "        async def get_boardgames(*thing_ids) -> List[BoardGame]:    \n",
    "            '''\n",
    "            get a list of `BoardGameInfo` that corresponds to the thing_ids requested. The list could be smaller than `len(thing_ids)`\n",
    "            because filtered using `type=boardgame` and there must be at least one vote on the weight\n",
    "            '''\n",
    "            assert len(thing_ids) <= 100\n",
    "\n",
    "            items = xe.fromstring(await get_boardgamegeek_thing(*thing_ids))\n",
    "            bg_infos = list(filter(lambda x: x.numweights > 0, [BoardGameInfo.from_item(item) for item in items]))\n",
    "            \n",
    "            return filter(lambda x: x.rulebook != '', await asyncio.gather(*[get_bg(bg_info) for bg_info in bg_infos]))\n",
    "        \n",
    "        file_lock = asyncio.Lock()\n",
    "        with open('data/dataset.txt', 'w') as f_out:\n",
    "            async def write_bg_info_on_file(*thing_ids):\n",
    "                bg_infos = await get_boardgames(*thing_ids)\n",
    "                async with file_lock:\n",
    "                    f_out.write('\\n'.join(map(str, bg_infos)) + '\\n')\n",
    "                    \n",
    "            await asyncio.gather(*[write_bg_info_on_file(*[x + 100 * i for x in range(100)]) for i in range(2)])\n",
    "                \n",
    "    \n",
    "await fill_dataset()"
   ]
  },
  {
   "cell_type": "code",
   "execution_count": null,
   "id": "d0d6ed03-83ec-4e4d-9a16-39cb5d874b6f",
   "metadata": {},
   "outputs": [],
   "source": []
  }
 ],
 "metadata": {
  "kernelspec": {
   "display_name": "Python 3 (ipykernel)",
   "language": "python",
   "name": "python3"
  },
  "language_info": {
   "codemirror_mode": {
    "name": "ipython",
    "version": 3
   },
   "file_extension": ".py",
   "mimetype": "text/x-python",
   "name": "python",
   "nbconvert_exporter": "python",
   "pygments_lexer": "ipython3",
   "version": "3.10.6"
  }
 },
 "nbformat": 4,
 "nbformat_minor": 5
}
