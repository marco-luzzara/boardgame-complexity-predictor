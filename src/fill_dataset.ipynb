{
 "cells": [
  {
   "cell_type": "code",
   "execution_count": 11,
   "id": "742f6993-a304-4013-b5a9-78a961f94557",
   "metadata": {},
   "outputs": [
    {
     "name": "stderr",
     "output_type": "stream",
     "text": [
      "2022-11-04 11:33:02,723 bgg_dataset  DEBUG    test\n"
     ]
    }
   ],
   "source": [
    "import logging\n",
    "\n",
    "logger = logging.getLogger('bgg_dataset')\n",
    "logger.handlers.clear()\n",
    "handler = logging.StreamHandler()\n",
    "formatter = logging.Formatter(\n",
    "        '%(asctime)s %(name)-12s %(levelname)-8s %(message)s')\n",
    "handler.setFormatter(formatter)\n",
    "logger.addHandler(handler)\n",
    "logger.setLevel(logging.DEBUG)\n",
    "\n",
    "logger.debug('test')"
   ]
  },
  {
   "cell_type": "code",
   "execution_count": 12,
   "id": "12805b26-4c7c-46c4-806f-fd34eaa7af51",
   "metadata": {},
   "outputs": [],
   "source": [
    "from dataclasses import dataclass\n",
    "import re\n",
    "from typing import Any, Dict\n",
    "\n",
    "tag_removal_pattern = re.compile('<[^<]+?>')\n",
    "\n",
    "@dataclass\n",
    "class BoardGameFileInfo:\n",
    "    id: int\n",
    "    name: str\n",
    "    description: str\n",
    "    extension: str\n",
    "    \n",
    "    @classmethod\n",
    "    def from_file_info(cls, file_info: Dict[str, Any]):\n",
    "        try:\n",
    "            rendered_description = file_info['description']['rendered']\n",
    "            # the description contains HTML tags that are removed with this regex\n",
    "            description = tag_removal_pattern.sub('', rendered_description)\n",
    "            filename, extension = file_info['filename'].rsplit('.', 1)\n",
    "            return cls(file_info['fileid'],\n",
    "                       filename,\n",
    "                       description,\n",
    "                       extension.lower()\n",
    "                      )\n",
    "        except:\n",
    "            return None"
   ]
  },
  {
   "cell_type": "code",
   "execution_count": 13,
   "id": "8be6f854-7ec2-40a3-9073-4c5ed31628d2",
   "metadata": {},
   "outputs": [
    {
     "name": "stdout",
     "output_type": "stream",
     "text": [
      "[BoardGameFileInfo(id='140639', name='Die Macher Brief by Liumas 2015-01', description=\"Turn sequence, setup, and symbol descriptions.This new 'FINAL' version is all PDF and easier to print and cut out using the guidelines.\", extension='pdf'), BoardGameFileInfo(id='139190', name='Die Macher Condensed Rules by Liumas 2015-01', description='Complete 3rd Edition rules condensed onto 6 pages, sans Comic Sans.', extension='pdf'), BoardGameFileInfo(id='62318', name='Die Macher player aide_BW', description='Die Macher player aide black & white', extension='pdf')]\n"
     ]
    }
   ],
   "source": [
    "import aiohttp\n",
    "from typing import List\n",
    "\n",
    "internal_bgg_api = 'https://api.geekdo.com/api'\n",
    "\n",
    "async def get_bgg_filelist(client, thing_id: int) -> List[BoardGameFileInfo]:\n",
    "    url = f\"{internal_bgg_api}/files?ajax=1&nosession=1&objectid={thing_id}&objecttype=thing&pageid=1&showcount=25&sort=hot&languageid=2184\"\n",
    "    async with client.get(url) as response:\n",
    "        content = await response.json()\n",
    "        files = content['files']\n",
    "        file_list = filter(lambda x: x is not None and x.extension == 'pdf', [BoardGameFileInfo.from_file_info(file) for file in files])\n",
    "        return file_list\n",
    "\n",
    "async with aiohttp.ClientSession() as client:\n",
    "    print(list(await get_bgg_filelist(client, 1))[0:3])"
   ]
  },
  {
   "cell_type": "code",
   "execution_count": 14,
   "id": "45cec8ad-f920-4666-8659-9c922fa72dd5",
   "metadata": {},
   "outputs": [
    {
     "name": "stdout",
     "output_type": "stream",
     "text": [
      "BoardGameFileInfo(id='139185', name='Die Macher Best Options by Liumas 2015-01', description='The standard official rules updates for 2nd and 3rd editions.', extension='pdf')\n"
     ]
    }
   ],
   "source": [
    "from string import punctuation\n",
    "import spacy\n",
    "from sklearn.feature_extraction.text import TfidfVectorizer\n",
    "from sklearn.metrics.pairwise import cosine_similarity\n",
    "\n",
    "nlp = spacy.load('en_core_web_sm')\n",
    "\n",
    "async def get_rulebook_info(client, thing_id: int) -> BoardGameFileInfo:\n",
    "    '''return the rulebook info or None if the boardgame has no rulebook'''\n",
    "    def tokenizer(raw_doc: str):\n",
    "        doc = nlp(raw_doc)\n",
    "        lemmas = (token.lemma_ for token in doc if token.lemma_ not in punctuation)\n",
    "        return filter(lambda x: not nlp.vocab[x].is_stop, lemmas)\n",
    "    \n",
    "    raw_docs = [x for x in await get_bgg_filelist(client, thing_id)]\n",
    "    if len(raw_docs) == 0:\n",
    "        return None\n",
    "    vectorizer = TfidfVectorizer(strip_accents='ascii', lowercase=True, tokenizer=tokenizer)\n",
    "    doc_vectors = vectorizer.fit_transform(f'{x.name} {x.description}' for x in raw_docs)\n",
    "\n",
    "    query_vector = vectorizer.transform([\"revised official rule rulebook update new\"])\n",
    "    docs_ranked = cosine_similarity(query_vector, doc_vectors)\n",
    "\n",
    "    return next(raw_docs[i] for i, score in sorted(enumerate(docs_ranked[0]), key=lambda x: -x[1]))\n",
    "\n",
    "async with aiohttp.ClientSession() as client:\n",
    "    print(await get_rulebook_info(client, 1))"
   ]
  },
  {
   "cell_type": "code",
   "execution_count": 15,
   "id": "b7c8b82e-5deb-4375-9d0d-9c3b98dc0df1",
   "metadata": {},
   "outputs": [],
   "source": [
    "import aiohttp\n",
    "import asyncio\n",
    "from typing import Callable\n",
    "\n",
    "class RetryingClientResponse:\n",
    "    def __init__(self, response_getter: Callable, *, allow_redirects=True, **kwargs):\n",
    "        self._response_getter = response_getter\n",
    "        \n",
    "    async def __aenter__(self):        \n",
    "        need_new_captcha = True\n",
    "        while need_new_captcha:\n",
    "            self._response_coroutine = self._response_getter()\n",
    "            self._response = await self._response_coroutine.__aenter__()\n",
    "            need_new_captcha = self._response.status != 200\n",
    "            if need_new_captcha:\n",
    "                logger.debug('new captcha is needed')\n",
    "                await self._response_coroutine.__aexit__(None, None, None)\n",
    "                # sleeping because the recaptcha needs to be re-validated\n",
    "                await asyncio.sleep(2)\n",
    "        \n",
    "        return self._response        \n",
    "\n",
    "    async def __aexit__(self, exc_type, exc_value, exc_tb):\n",
    "        await self._response_coroutine.__aexit__(exc_type, exc_value, exc_tb)\n",
    "\n",
    "#async with aiohttp.ClientSession() as client:\n",
    "#    async with RetryingClientResponse(lambda: client.get('https://www.google.it')) as response:\n",
    "#        print(await response.text())"
   ]
  },
  {
   "cell_type": "code",
   "execution_count": 16,
   "id": "9022f324-d10e-4fd9-b9fb-8b7190da60fc",
   "metadata": {},
   "outputs": [
    {
     "name": "stderr",
     "output_type": "stream",
     "text": [
      "2022-11-04 11:33:52,327 bgg_dataset  DEBUG    https://boardgamegeek.com/file/download_redirect/dcaa019e9c878abde23c6a542427a90f83296f5737e7312b/Die+Macher+Brief+by+Liumas+2015-01.pdf\n"
     ]
    },
    {
     "name": "stdout",
     "output_type": "stream",
     "text": [
      "BoardGameFileInfo(id='140639', name='Die Macher Brief by Liumas 2015-01', description=\"Turn sequence, setup, and symbol descriptions.This new 'FINAL' version is all PDF and easier to print and cut out using the guidelines.\", extension='pdf')\n",
      "8506\n"
     ]
    }
   ],
   "source": [
    "import os\n",
    "from datetime import datetime, timedelta\n",
    "import fitz as PyMuPDF\n",
    "import re\n",
    "\n",
    "regex_non_readable_text = re.compile(r'[^\\w!\"#$%&\\'()*+,\\-./:;<=>?@[\\\\\\]^`{|}~]', re.ASCII)\n",
    "regex_useless_periods = re.compile(r'\\.[^a-zA-Z0-9]+')\n",
    "bggusername = os.getenv('BGGUSERNAME')\n",
    "bggpassword = os.getenv('BGGPASSWORD')\n",
    "\n",
    "async def boardgamegeek_authenticate(client, bggusername: str, bggpassword: str) -> str:\n",
    "    '''returns the auth token'''\n",
    "    url = 'https://boardgamegeek.com/api/accounts/current'\n",
    "    headers = { 'cookie': f'bggusername={bggusername}; bggpassword={bggpassword}' }\n",
    "    async with client.get(url, headers=headers) as response:\n",
    "        content = await response.json()\n",
    "        return content['authToken']\n",
    "\n",
    "def clean_text(text: str) -> str:\n",
    "    cleaned_text = regex_non_readable_text.sub(' ', text)\n",
    "    cleaned_text = regex_useless_periods.sub('.', cleaned_text)\n",
    "    return cleaned_text\n",
    "    \n",
    "async def get_file_content(client, auth_token: str, file: BoardGameFileInfo) -> str:\n",
    "    url = f'{internal_bgg_api}/files/downloadurls?ids={file.id}' \n",
    "    headers = { 'Authorization': f'GeekAuth {auth_token}' }\n",
    "    async with RetryingClientResponse(lambda: client.get(url, headers=headers)) as response:\n",
    "        content = await response.json()        \n",
    "        download_url = 'https://boardgamegeek.com' + content['downloadUrls'][0]['url']\n",
    "        logger.debug(download_url)\n",
    "        async with RetryingClientResponse(lambda: client.get(download_url)) as pdf_response:\n",
    "            pdf_data = await pdf_response.read()\n",
    "            with PyMuPDF.open(stream=pdf_data, filetype=\"pdf\") as doc:\n",
    "                text = \"\"\n",
    "                for page in doc:\n",
    "                    text += page.get_text() + \" \"\n",
    "                return clean_text(text)\n",
    "                  \n",
    "async with aiohttp.ClientSession() as client:\n",
    "    try:\n",
    "        if token_expire <= datetime.now():\n",
    "            raise NameError\n",
    "    except NameError:\n",
    "        token_expire = datetime.now() + timedelta(hours=2)\n",
    "        token = await boardgamegeek_authenticate(client, bggusername, bggpassword)\n",
    "    file = list(await get_bgg_filelist(client, 1))[0]\n",
    "    print(file)\n",
    "\n",
    "    print(len(await get_file_content(client, token, file)))"
   ]
  },
  {
   "cell_type": "code",
   "execution_count": 17,
   "id": "a2f88875-97b7-4648-8849-b3cf6d2ad75c",
   "metadata": {},
   "outputs": [
    {
     "data": {
      "text/plain": [
       "'None,test'"
      ]
     },
     "execution_count": 17,
     "metadata": {},
     "output_type": "execute_result"
    }
   ],
   "source": [
    "from models.BoardGameData import *\n",
    "\n",
    "b = BoardGame(None, 'test')\n",
    "b.to_csv()"
   ]
  },
  {
   "cell_type": "code",
   "execution_count": 20,
   "id": "5ba3e2f8-7aa5-4283-bb43-1f0212f3acda",
   "metadata": {},
   "outputs": [],
   "source": [
    "from dataclass_csv import DataclassWriter\n",
    "from typing import List, Any\n",
    "\n",
    "def write_dc_definition_to_csv(f, dc_type) -> None:\n",
    "    w = DataclassWriter(f, [], dc_type)\n",
    "    w.write()\n",
    "    \n",
    "def write_dc_to_csv(f, data_objects: List[Any], dc_type, skip_header=True) -> None:\n",
    "    w = DataclassWriter(f, data_objects, dc_type)\n",
    "    w.write(skip_header=skip_header)"
   ]
  },
  {
   "cell_type": "code",
   "execution_count": 21,
   "id": "5298c018-375a-4105-b6ac-2e1adff08ef9",
   "metadata": {},
   "outputs": [
    {
     "data": {
      "application/vnd.jupyter.widget-view+json": {
       "model_id": "13260994f8734a46bd85bea6107a4cb4",
       "version_major": 2,
       "version_minor": 0
      },
      "text/plain": [
       "IntProgress(value=0, bar_style='success', description='Downloaded BoardGames info:', max=5)"
      ]
     },
     "metadata": {},
     "output_type": "display_data"
    },
    {
     "name": "stderr",
     "output_type": "stream",
     "text": [
      "2022-11-04 11:39:47,956 bgg_dataset  DEBUG    https://boardgamegeek.com/xmlapi2/thing?id=0,10,20,30,40,50,60,70,80,90,100,110,120,130,140,150,160,170,180,190,200,210,220,230,240,250,260,270,280,290,300,310,320,330,340,350,360,370,380,390,400,410,420,430,440,450,460,470,480,490,500,510,520,530,540,550,560,570,580,590,600,610,620,630,640,650,660,670,680,690,700,710,720,730,740,750,760,770,780,790,800,810,820,830,840,850,860,870,880,890,900,910,920,930,940,950,960,970,980,990&type=boardgame&pagesize=100&stats=1\n",
      "2022-11-04 11:39:55,909 bgg_dataset  DEBUG    https://boardgamegeek.com/file/download_redirect/d27cc06478b046f801f806be9079c098ec1163ed0a661d3d/Elfenland+-+Quick+Reference.pdf\n",
      "2022-11-04 11:40:00,935 bgg_dataset  DEBUG    https://boardgamegeek.com/file/download_redirect/751a942bafa939cb502e8379c24ab0a08b1aa4fb667c5606/Full+Metal+Planet+New+English+Translation.pdf\n",
      "2022-11-04 11:40:14,445 bgg_dataset  DEBUG    https://boardgamegeek.com/file/download_redirect/1220206cceb98b9b5c5fccac58c6299a8ca2c701384e868f/Dark+Tower+QR.pdf\n",
      "2022-11-04 11:40:17,450 bgg_dataset  DEBUG    https://boardgamegeek.com/file/download_redirect/a728b4f79658ca26daf5a0002d3c2316f5d35e8192f9e4c5/LostCitiesCardGame_Manual.pdf\n",
      "2022-11-04 11:40:22,015 bgg_dataset  DEBUG    https://boardgamegeek.com/file/download_redirect/bbc59626f3f2242c668ad874321ca02ae2e6cc25d07bac3d/Vinci+-+Quick+Reference.pdf\n"
     ]
    }
   ],
   "source": [
    "# !!! IMPORTANT !!! reload a web page of board game geek that contains a recaptcha, for example\n",
    "#     https://boardgamegeek.com/filepage/23411/complete-condensed-rules-liumas\n",
    "# this is necessary to re-validate the recaptcha. it can be done with Easy Auto Refresh extension or something like this\n",
    "import aiohttp\n",
    "import asyncio\n",
    "from typing import List\n",
    "import ipywidgets as widgets\n",
    "import re\n",
    "import xml.etree.ElementTree as xe\n",
    "from models.BoardGameData import *\n",
    "\n",
    "bgg_api_root = 'https://boardgamegeek.com/xmlapi2'\n",
    "BGG_COUNT = 5\n",
    "BGG_THING_IDS_PER_CALL = 100\n",
    "BGG_THING_ID_OFFSET = 10\n",
    "PERIODS_THRESHOLD = 10 # a rulebook must contain at least PERIODS_THRESHOLD sentences\n",
    "regex_check_text_present = re.compile('[a-zA-Z]')\n",
    "\n",
    "progress_bar = widgets.IntProgress(\n",
    "    value=0,\n",
    "    min=0,\n",
    "    max=BGG_COUNT,\n",
    "    description='Downloaded BoardGames info:',\n",
    "    bar_style='success',\n",
    "    orientation='horizontal'\n",
    ")\n",
    "display(progress_bar)\n",
    "\n",
    "async def fill_dataset():\n",
    "    async with aiohttp.ClientSession() as client:\n",
    "        async def get_boardgamegeek_thing(*thing_ids) -> str:\n",
    "            url = f'{bgg_api_root}/thing?id={\",\".join(str(x) for x in thing_ids)}&type=boardgame&pagesize=100&stats=1'\n",
    "            logger.debug(url)\n",
    "            async with client.get(url) as response:\n",
    "                assert response.status == 200\n",
    "                return (await response.read()).decode('utf-8')\n",
    "        \n",
    "        def is_text_valid(text: str) -> bool:\n",
    "            return regex_check_text_present.search(text) is not None and \\\n",
    "                text.count('.') >= PERIODS_THRESHOLD\n",
    "        \n",
    "        async def get_bg_file_content(fileinfo: BoardGameFileInfo) -> str:\n",
    "            '''returns the file content only if the fileinfo is not None and at least one word exists, otherwise returns an empty string'''\n",
    "            if fileinfo is None:\n",
    "                return ''\n",
    "            file_content = await get_file_content(client, token, fileinfo)\n",
    "            return file_content if is_text_valid(file_content) else ''\n",
    "        \n",
    "        async def get_bg(bg_info: BoardGameInfo) -> BoardGame:\n",
    "            thing_id = bg_info.id\n",
    "            fileinfo = await get_rulebook_info(client, thing_id)\n",
    "            return BoardGame(bg_info, await get_bg_file_content(fileinfo))\n",
    "        \n",
    "        async def get_boardgames(*thing_ids) -> List[BoardGame]:    \n",
    "            '''\n",
    "            get a list of `BoardGameInfo` that corresponds to the thing_ids requested. The list could be smaller than `len(thing_ids)`\n",
    "            because filtered using `type=boardgame` and there must be at least one vote on the weight\n",
    "            '''\n",
    "            assert len(thing_ids) <= 100\n",
    "\n",
    "            items = xe.fromstring(await get_boardgamegeek_thing(*thing_ids))\n",
    "            bg_infos = list(filter(lambda x: x.numweights > 0, [BoardGameInfo.from_item(item) for item in items]))\n",
    "            \n",
    "            bgs = []\n",
    "            for bg_info in bg_infos:\n",
    "                bg = await get_bg(bg_info)\n",
    "                if bg.rulebook != '':\n",
    "                    bgs.append(bg)\n",
    "                    progress_bar.value += 1\n",
    "                    if progress_bar.value == BGG_COUNT:\n",
    "                        break\n",
    "                    await asyncio.sleep(1)\n",
    "                \n",
    "            return bgs\n",
    "        \n",
    "        # I take a sample of bgs that are sparse. this is because each bg id is BGG_THING_ID_OFFSET-far from the next one \n",
    "        get_thing_id = lambda call_num, thing_id_num: thing_id_num * BGG_THING_ID_OFFSET + \\\n",
    "                                                      call_num * BGG_THING_IDS_PER_CALL * BGG_THING_ID_OFFSET\n",
    "        with open('data/dataset.csv', 'w') as f_out:\n",
    "            write_dc_definition_to_csv(f_out, BoardGame)\n",
    "            call_num = 0\n",
    "            while progress_bar.value < BGG_COUNT:\n",
    "                bgs = await get_boardgames(*[get_thing_id(call_num, x) for x in range(BGG_THING_IDS_PER_CALL)])\n",
    "                write_dc_to_csv(f_out, bgs, BoardGame)\n",
    "                f_out.flush()\n",
    "                call_num += 1\n",
    "                \n",
    "    \n",
    "await fill_dataset()"
   ]
  },
  {
   "cell_type": "code",
   "execution_count": null,
   "id": "d01b7df2-bafe-431c-b031-394bfbacb21e",
   "metadata": {},
   "outputs": [],
   "source": [
    "\"\"\"\n",
    "async def get_boardgames(*thing_ids) -> List[BoardGame]:    \n",
    "    '''\n",
    "    get a list of `BoardGameInfo` that corresponds to the thing_ids requested. The list could be smaller than `len(thing_ids)`\n",
    "    because filtered using `type=boardgame` and there must be at least one vote on the weight\n",
    "    '''\n",
    "    assert len(thing_ids) <= 100\n",
    "\n",
    "    items = xe.fromstring(await get_boardgamegeek_thing(*thing_ids))\n",
    "    bg_infos = list(filter(lambda x: x.numweights > 0, [BoardGameInfo.from_item(item) for item in items]))\n",
    "\n",
    "    return filter(lambda x: x.rulebook != '', await asyncio.gather(*[get_bg(bg_info) for bg_info in bg_infos]))\n",
    "        \n",
    "file_lock = asyncio.Lock()\n",
    "with open('data/dataset.txt', 'w') as f_out:\n",
    "    async def write_bg_info_on_file(*thing_ids):\n",
    "        bg_infos = await get_boardgames(*thing_ids)\n",
    "        async with file_lock:\n",
    "            f_out.write('\\n'.join(map(str, bg_infos)) + '\\n')\n",
    "\n",
    "    await asyncio.gather(*[write_bg_info_on_file(\n",
    "        *[x + BGG_THING_IDS_PER_CALL * i for x in range(BGG_THING_IDS_PER_CALL)]) for i in range(BGG_THING_ID_CALLS)])\n",
    "\"\"\"\n",
    "# this is the concurrent code that I cannot execute because of server side checks on the number of downloads.\n",
    "# There are some limitations that bgg put in order to avoid automated downloads"
   ]
  }
 ],
 "metadata": {
  "kernelspec": {
   "display_name": "Python 3 (ipykernel)",
   "language": "python",
   "name": "python3"
  },
  "language_info": {
   "codemirror_mode": {
    "name": "ipython",
    "version": 3
   },
   "file_extension": ".py",
   "mimetype": "text/x-python",
   "name": "python",
   "nbconvert_exporter": "python",
   "pygments_lexer": "ipython3",
   "version": "3.10.6"
  }
 },
 "nbformat": 4,
 "nbformat_minor": 5
}
