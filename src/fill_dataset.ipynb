{
 "cells": [
  {
   "cell_type": "code",
   "execution_count": 11,
   "id": "6e0294e0-0638-4ac0-ad24-df67b00e1b76",
   "metadata": {},
   "outputs": [],
   "source": [
    "from dataclasses import dataclass\n",
    "import xml.etree.ElementTree as xe\n",
    "\n",
    "@dataclass\n",
    "class BoardGameInfo:\n",
    "    id: int\n",
    "    name: str\n",
    "    numweights: int\n",
    "    averageweight: float\n",
    "    \n",
    "    @staticmethod\n",
    "    def from_item(item: xe) -> BoardGameInfo:\n",
    "        id = item.attrib['id']\n",
    "        name = item.find('./name[@type=\\'primary\\']').attrib['value']\n",
    "        ratings = item.find('./statistics/ratings')\n",
    "        \n",
    "        return BoardGameInfo(id, \n",
    "                             name, \n",
    "                             ratings.find('./numweights').attrib['value'], \n",
    "                             ratings.find('./averageweight').attrib['value']\n",
    "                            ) \n",
    "    "
   ]
  },
  {
   "cell_type": "code",
   "execution_count": 12,
   "id": "5298c018-375a-4105-b6ac-2e1adff08ef9",
   "metadata": {},
   "outputs": [],
   "source": [
    "import aiohttp\n",
    "import asyncio\n",
    "\n",
    "bgg_api_root = 'https://boardgamegeek.com/xmlapi2'\n",
    "\n",
    "async def fill_dataset():\n",
    "    async with aiohttp.ClientSession() as client:\n",
    "        async def get_boardgamegeek_thing(*thing_ids):\n",
    "            url = f'{bgg_api_root}/thing?id={\",\".join(str(x) for x in thing_ids)}&type=boardgame&pagesize=100&stats=1'\n",
    "            async with client.get(url) as response:\n",
    "                assert response.status == 200\n",
    "                return (await response.read()).decode('utf-8')\n",
    "            \n",
    "        async def get_boardgamegeek_rulebook(thing):\n",
    "            ...\n",
    "        \n",
    "        async def get_bg_info(*thing_ids):    \n",
    "            '''\n",
    "            get a list of `BoardGameInfo` that corresponds to the thing_ids requested. The list could be smaller than `len(thing_ids)`\n",
    "            because filtered using `type=boardgame` and there must be at least one vote about weight\n",
    "            '''\n",
    "            assert len(thing_ids) <= 100\n",
    "\n",
    "            bg_infos = []\n",
    "            items = xe.fromstring(await get_boardgamegeek_thing(*thing_ids))\n",
    "\n",
    "            for item in items:\n",
    "                bg_infos.append(BoardGameInfo.from_item(item))\n",
    "\n",
    "            return bg_infos\n",
    "        \n",
    "        file_lock = asyncio.Lock()\n",
    "        with open('dataset.txt', 'w') as f_out:\n",
    "            async def write_bg_info_on_file(*thing_ids):\n",
    "                bg_infos = await get_bg_info(*thing_ids)\n",
    "                async with file_lock:\n",
    "                    f_out.write('\\n'.join(map(str, bg_infos)) + '\\n')\n",
    "                    \n",
    "            await asyncio.gather(*[write_bg_info_on_file(*[x + 100 * i for x in range(100)]) for i in range(2)])\n",
    "                \n",
    "    \n",
    "await fill_dataset()"
   ]
  },
  {
   "cell_type": "code",
   "execution_count": null,
   "id": "8be6f854-7ec2-40a3-9073-4c5ed31628d2",
   "metadata": {},
   "outputs": [],
   "source": []
  }
 ],
 "metadata": {
  "kernelspec": {
   "display_name": "Python 3 (ipykernel)",
   "language": "python",
   "name": "python3"
  },
  "language_info": {
   "codemirror_mode": {
    "name": "ipython",
    "version": 3
   },
   "file_extension": ".py",
   "mimetype": "text/x-python",
   "name": "python",
   "nbconvert_exporter": "python",
   "pygments_lexer": "ipython3",
   "version": "3.10.6"
  }
 },
 "nbformat": 4,
 "nbformat_minor": 5
}
