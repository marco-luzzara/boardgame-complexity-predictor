{
  "cells": [
    {
      "cell_type": "markdown",
      "metadata": {
        "id": "view-in-github",
        "colab_type": "text"
      },
      "source": [
        "<a href=\"https://colab.research.google.com/github/marco-luzzara/boardgame-complexity-predictor/blob/master/src/extract_features.ipynb\" target=\"_parent\"><img src=\"https://colab.research.google.com/assets/colab-badge.svg\" alt=\"Open In Colab\"/></a>"
      ]
    },
    {
      "cell_type": "code",
      "execution_count": 24,
      "id": "gOE9-ZKtwDuH",
      "metadata": {
        "id": "gOE9-ZKtwDuH"
      },
      "outputs": [],
      "source": [
        "from IPython.display import clear_output\n",
        "import os\n",
        "WORKING_LOCALLY = bool(os.getenv('WORKING_LOCALLY'))\n",
        "\n",
        "if WORKING_LOCALLY:\n",
        "    DATASET_FILE_PATH = 'data/dataset.csv'\n",
        "else:\n",
        "    from google.colab import drive\n",
        "    drive.mount('/content/drive')\n",
        "    DATASET_FILE_PATH = '/content/drive/My Drive/Projects/IRBoardGameComplexity/dataset.csv'\n",
        "    !pip install fastcoref==2.0.*\n",
        "    !pip install spacy-transformers\n",
        "    !python3 -m pip install coreferee==1.3.*\n",
        "    !python3 -m coreferee install en\n",
        "    !python -m spacy download en_core_web_lg\n",
        "    !python -m spacy download en_core_web_trf\n",
        "    clear_output(wait=False)\n"
      ]
    },
    {
      "cell_type": "code",
      "execution_count": 25,
      "id": "3aa4a086-aa20-4def-b17a-3b4ff4fad93f",
      "metadata": {
        "id": "3aa4a086-aa20-4def-b17a-3b4ff4fad93f"
      },
      "outputs": [],
      "source": [
        "import spacy\n",
        "\n",
        "## +++++++++++ with fastcoref\n",
        "from fastcoref import spacy_component\n",
        "nlp = spacy.load(\"en_core_web_sm\", exclude=[\"parser\", \"lemmatizer\", \"ner\", \"textcat\"])\n",
        "nlp.add_pipe(\"fastcoref\")\n",
        "             #config={'model_architecture': 'LingMessCoref', 'model_path': 'biu-nlp/lingmess-coref'})\n",
        "\n",
        "# to remove tqdm progress bar: https://stackoverflow.com/questions/37091673/silence-tqdms-output-while-running-tests-or-running-the-code-via-cron\n",
        "from tqdm.auto import tqdm\n",
        "from functools import partialmethod\n",
        "tqdm.__init__ = partialmethod(tqdm.__init__, disable=True, ncols=0, nrows=0, gui=False, bar_format='', leave=False)\n",
        "\n",
        "## +++++++++++ with coreferee\n",
        "# import coreferee\n",
        "# nlp = spacy.load('en_core_web_trf')\n",
        "# nlp.add_pipe(\"coreferee\")"
      ]
    },
    {
      "cell_type": "code",
      "execution_count": 26,
      "id": "a4bcea26-c1a3-45fb-845e-98cae3073e85",
      "metadata": {
        "id": "a4bcea26-c1a3-45fb-845e-98cae3073e85"
      },
      "outputs": [],
      "source": [
        "import logging\n",
        "\n",
        "logger = logging.getLogger('bgg_predict')\n",
        "logger.handlers.clear()\n",
        "handler = logging.StreamHandler()\n",
        "formatter = logging.Formatter(\n",
        "        '%(asctime)s %(name)-12s %(levelname)-8s %(message)s')\n",
        "handler.setFormatter(formatter)\n",
        "logger.addHandler(handler)\n",
        "logger.setLevel(logging.INFO)\n",
        "\n",
        "logger.debug('test')"
      ]
    },
    {
      "cell_type": "code",
      "source": [
        "import re\n",
        "\n",
        "regex_mail = re.compile(r'\\w+(?:\\.\\w+)*?@\\w+(?:\\.\\w+)+')\n",
        "# modified from https://stackoverflow.com/a/163684/5587393\n",
        "regex_link = re.compile(r'(?:\\b(?:(?:https?|ftp|file)://|www))[-A-Za-z0-9+&@#/%?=~_|!:,.;]+[-A-Za-z0-9+&@#%=~_|]')\n",
        "# in a sentence there must be at least 4 words of length 2 each\n",
        "regex_at_least_4_words_in_sentence = re.compile(r'^(?=.*?(?:[,:;()]?[a-zA-Z]{2,}[,:;()]?(?: |$)[^a-zA-Z]*?){4,})')\n",
        "# a string like \"word.word\" could be misinterpreted by the tokenizer as a single token\n",
        "# with the regex it becomes \"word. word\"\n",
        "regex_distance_between_period_and_following_word = re.compile(r'\\.(?!\\s|$)')\n",
        "# compress consecutive whitespaces\n",
        "regex_multiple_spaces = re.compile(r'\\s{2,}')\n",
        "# interrupted words usually have a \"- \" at the end before the new line\n",
        "regex_interrupted_word = re.compile(r'([a-zA-Z])- ')\n",
        "# remove page numbers, that are usually enclosed in characters like = or -, for example \"-12-\"\n",
        "regex_consecutive_meaningless_chars = re.compile(r'[^\\.a-zA-Z0-9\\s()]{2,} *(?:(?:\\d+ *)+)?|(?P<prepage>[^\\s\\d\\.])\\d+(?P=prepage)')\n",
        "\n",
        "def clean_from_short_sentences(text: str) -> str:\n",
        "    return '.'.join(sentence for sentence in text.split('.') if regex_at_least_4_words_in_sentence.match(sentence) is not None)\n",
        "\n",
        "def clean_text(text: str) -> str:\n",
        "    for clean_function in [lambda x: regex_mail.sub('', x),\n",
        "                           lambda x: regex_link.sub('', x),\n",
        "                           lambda x: regex_consecutive_meaningless_chars.sub('', x),\n",
        "                           lambda x: regex_multiple_spaces.sub(' ', x),\n",
        "                           lambda x: regex_interrupted_word.sub(r'\\1', x),\n",
        "                           lambda x: clean_from_short_sentences(x),\n",
        "                           lambda x: regex_distance_between_period_and_following_word.sub('. ', x)]:\n",
        "        text = clean_function(text)\n",
        "    return text\n",
        "\n",
        "test_text = 'this is a test (me@gmail.it) -12- that wi-  ll be   cleaned. with 2 5 6 not valid. 2 sentences is good enough http://or.not.'\n",
        "cleaned_text = clean_text(test_text)\n",
        "print(cleaned_text)\n",
        "assert cleaned_text == 'this is a test () that will be cleaned. 2 sentences is good enough '"
      ],
      "metadata": {
        "id": "bBHkUGAsukWJ",
        "outputId": "fe3c34ad-33fe-47cc-a511-a03576449afd",
        "colab": {
          "base_uri": "https://localhost:8080/"
        }
      },
      "id": "bBHkUGAsukWJ",
      "execution_count": 27,
      "outputs": [
        {
          "output_type": "stream",
          "name": "stdout",
          "text": [
            "this is a test () that will be cleaned. 2 sentences is good enough \n"
          ]
        }
      ]
    },
    {
      "cell_type": "code",
      "execution_count": 23,
      "id": "4caa1a08-119d-4cca-a7fc-61808c35e286",
      "metadata": {
        "colab": {
          "base_uri": "https://localhost:8080/"
        },
        "id": "4caa1a08-119d-4cca-a7fc-61808c35e286",
        "outputId": "415ada2f-096b-49bf-868e-7d08b4537f46"
      },
      "outputs": [
        {
          "output_type": "execute_result",
          "data": {
            "text/plain": [
              "[Sentence(content='first sentence', start=0, end=13),\n",
              " Sentence(content=' second sentence', start=15, end=30),\n",
              " Sentence(content=' third sentence', start=32, end=46)]"
            ]
          },
          "metadata": {},
          "execution_count": 23
        }
      ],
      "source": [
        "from typing import List\n",
        "from dataclasses import dataclass\n",
        "\n",
        "@dataclass\n",
        "class Sentence:\n",
        "    content: str\n",
        "    start: int\n",
        "    end: int\n",
        "    \n",
        "    def does_include_pos(self, pos: int) -> bool:\n",
        "        # + 1 because the sentence include terminal period. some tokens include this period too\n",
        "        return self.start <= pos <= self.end + 1\n",
        "\n",
        "def get_sentences_from_text(text: str) -> List[Sentence]:\n",
        "    # assert no continuous dots because of text cleared while building the dataset\n",
        "    sentences = text.split('.')\n",
        "    \n",
        "    res = []\n",
        "    char_accumulator = 0\n",
        "    for sentence in sentences:\n",
        "        res.append(Sentence(sentence, char_accumulator, char_accumulator + len(sentence) - 1))\n",
        "        # + 1 because of the dot at the end of the sentence\n",
        "        char_accumulator += len(sentence) + 1\n",
        "        \n",
        "    if res[-1].content == '':\n",
        "        res.pop()\n",
        "        \n",
        "    return res\n",
        "\n",
        "test_text = 'first sentence. second sentence. third sentence'\n",
        "test_sentences = get_sentences_from_text(test_text)\n",
        "assert len(test_sentences) == 3\n",
        "test_sentences"
      ]
    },
    {
      "cell_type": "code",
      "execution_count": 28,
      "id": "361b1290-00e4-42f3-85a4-badadb8d574f",
      "metadata": {
        "colab": {
          "base_uri": "https://localhost:8080/"
        },
        "id": "361b1290-00e4-42f3-85a4-badadb8d574f",
        "outputId": "f627596e-40c5-4764-beab-1c8905042683"
      },
      "outputs": [
        {
          "output_type": "execute_result",
          "data": {
            "text/plain": [
              "[[0, 0], [1, 1, 2], [2, 3]]"
            ]
          },
          "metadata": {},
          "execution_count": 28
        }
      ],
      "source": [
        "from typing import Tuple\n",
        "\n",
        "def get_sentences_from_clusters(clusters: List[List[Tuple[int, int]]], sentences: List[Sentence]) -> List[List[int]]:\n",
        "    # + sentences[0] because sentences are built from the entire text and not from the current group\n",
        "    clusters_on_sentences = [[next(filter(lambda x: x[1].does_include_pos(entity[0] + sentences[0].start), enumerate(sentences)))[0] \n",
        "                              for entity in cluster]\n",
        "                             for cluster in clusters]\n",
        "\n",
        "    return clusters_on_sentences\n",
        "\n",
        "# text = 'Alice goes down the rabbit hole. Where she would discover a new reality beyond her expectations.'\n",
        "# sentences = get_sentences_from_text(text)\n",
        "# clusters = [[(0, 5), (39, 42), (79, 82)]]\n",
        "sentences = [Sentence(content=' A boom unit is destroyed when it has received 5 floatation hits,  and is removed from play, clearing the hex for unobstructed vessel  movement', start=65348, end=65490), \n",
        "             Sentence(content=' If a boom unit destroyed on the same game turn it is attacked, the  attacking vessel (A', start=65492, end=65579), \n",
        "             Sentence(content=' is not subject to a die roll on the Vessel  Fouling Table (Combat Table No', start=65581, end=65655), \n",
        "             Sentence(content=' 13) and continues its movement', start=65657, end=65687)]\n",
        "clusters = [[(8, 11), (31, 32)], [(192, 193), (231, 232), (308, 308)], [(306, 307), (328, 330)]]        \n",
        "get_sentences_from_clusters(clusters, sentences)"
      ]
    },
    {
      "cell_type": "code",
      "execution_count": 29,
      "id": "2e53dc33-31ba-4e04-80e6-dc645714fe60",
      "metadata": {
        "id": "2e53dc33-31ba-4e04-80e6-dc645714fe60"
      },
      "outputs": [],
      "source": [
        "from typing import List, Set\n",
        "from itertools import groupby\n",
        "from operator import itemgetter\n",
        "from scipy.sparse import csr_matrix\n",
        "from scipy.sparse.csgraph import connected_components\n",
        "\n",
        "def get_rule_groups_from_sentence_clusters(sentences: List[Sentence], sentence_clusters: List[List[int]]) -> List[List[int]]:\n",
        "    def normalize_group(group: Set[int]) -> List[List[int]]:\n",
        "        '''each group could contain multiple consecutive sublists. this method split these sublists'''\n",
        "        res = []\n",
        "\n",
        "        # https://stackoverflow.com/a/23861347/5587393\n",
        "        for k, g in groupby(enumerate(sorted(list(group))), lambda x: x[0] - x[1]):\n",
        "            res.append(list(map(itemgetter(1), g)))\n",
        "\n",
        "        return res\n",
        "    # the graph is built as a directed sparse graph where the first element of each cluster\n",
        "    # is connected to the other elements in the same cluster\n",
        "    graph = [[0 for _ in range(len(sentences))] for __ in range(len(sentences))]\n",
        "    for cluster in sentence_clusters:\n",
        "        for sentence in cluster[1:]:\n",
        "            graph[cluster[0]][sentence] = 1\n",
        "\n",
        "    # find the connected components of the graph created from the clusters returned after coref     \n",
        "    graph = csr_matrix(graph)\n",
        "    n_components, labels = connected_components(csgraph=graph, directed=False, return_labels=True)\n",
        "    groups = [set() for _ in range(n_components)]\n",
        "    for i, label in enumerate(labels):\n",
        "        groups[label].add(i)\n",
        "\n",
        "    return [norm_group for group in groups for norm_group in normalize_group(group)]"
      ]
    },
    {
      "cell_type": "code",
      "execution_count": 30,
      "id": "4c83a628-762c-4084-8d9c-4b64a615fe09",
      "metadata": {
        "id": "4c83a628-762c-4084-8d9c-4b64a615fe09",
        "outputId": "622653a2-983c-40a5-d57b-61bf64571984",
        "colab": {
          "base_uri": "https://localhost:8080/",
          "height": 202,
          "referenced_widgets": [
            "a298247e85334c4cb54d677a5ffaee1d",
            "e96da9b5a3834078a7b33d16623400af",
            "481f38bcedc04be8be047c99ede442cd",
            "c962a95ab7dc42b995f93e4a99aa80fc",
            "669a7d3ba6404a2da85e53238a91df60",
            "12aa4de885aa4180a66afe25b6087e7d",
            "c598379bbf0b4c0990284e3a9815ad08",
            "5123a26355894b3493c73274c54716a3",
            "207ddac5491443f29e65f23c271e6921",
            "85a3438907c94a868a7334f46a04b5eb",
            "9fb934679ee1462c974818ff026c7a8c"
          ]
        }
      },
      "outputs": [
        {
          "output_type": "display_data",
          "data": {
            "text/plain": [
              "  0% 0/1 [00:00<?, ?ba/s]"
            ],
            "application/vnd.jupyter.widget-view+json": {
              "version_major": 2,
              "version_minor": 0,
              "model_id": "a298247e85334c4cb54d677a5ffaee1d"
            }
          },
          "metadata": {}
        },
        {
          "output_type": "execute_result",
          "data": {
            "text/plain": [
              "[[(9, 11), (31, 34), (41, 46), (69, 71), (76, 79)],\n",
              " [(93, 97), (116, 120), (148, 152)]]"
            ]
          },
          "metadata": {},
          "execution_count": 30
        }
      ],
      "source": [
        "def convert_result_to_cluster(result, pipeline) -> List[List[Tuple[int, int]]]:\n",
        "    component_names = [x[0] for x in pipeline]\n",
        "    if 'coreferee' in component_names:\n",
        "        return [[(result[entity[0]].idx, result[entity[0]].idx + len(result[entity[0]]) - 1) \n",
        "                 for entity in chain] for chain in result._.coref_chains]\n",
        "    elif 'fastcoref' in component_names:\n",
        "        return result._.coref_clusters\n",
        "\n",
        "result = nlp(\"Although he was very busy with his work, Peter had had enough of it. He and his wife decided they needed a holiday. They travelled to Spain because they loved the country very much.\")\n",
        "convert_result_to_cluster(result, nlp.pipeline)"
      ]
    },
    {
      "cell_type": "code",
      "execution_count": null,
      "id": "FWKfCPyrdjis",
      "metadata": {
        "id": "FWKfCPyrdjis"
      },
      "outputs": [],
      "source": [
        "from typing import List, Tuple\n",
        "import pandas as pd\n",
        "import ast\n",
        "\n",
        "def get_rules(text: str) -> List[str]:\n",
        "    text = clean_text(text)\n",
        "    sentences = get_sentences_from_text(text)\n",
        "    \n",
        "    GROUP_STEP_OFFSET = 2\n",
        "    # I create groups of 4 sentences to speed up the process of finding connected sentences\n",
        "    # and to make sure to find connected sentences not immediately adjacent\n",
        "    sentences_groups = [sentences[i:min(i+4, len(sentences))] for i in range(0, len(sentences) - 2, GROUP_STEP_OFFSET)]\n",
        "    doc_groups = nlp.pipe(['.'.join(map(lambda s: s.content, group)) for group in sentences_groups])\n",
        "\n",
        "    cluster_groups = []\n",
        "    for i, group in enumerate(sentences_groups):\n",
        "        group_text = next(doc_groups)\n",
        "        group_coref_clusters = convert_result_to_cluster(group_text, nlp.pipeline)\n",
        "        group_sentence_clusters = get_sentences_from_clusters(group_coref_clusters, group)\n",
        "        # + i * GROUP_STEP_OFFSET to retrieve the actual index of the sentence\n",
        "        cluster_groups.extend([sentence_id + i * GROUP_STEP_OFFSET for sentence_id in gsc] \n",
        "                               for gsc in group_sentence_clusters)\n",
        "        \n",
        "    rule_groups = get_rule_groups_from_sentence_clusters(sentences, cluster_groups)                                                                                \n",
        "    \n",
        "    return ['. '.join([sentences[s_index].content for s_index in group]) for group in rule_groups]\n",
        "\n",
        "with pd.read_csv(DATASET_FILE_PATH, chunksize=1, converters={ 'family': ast.literal_eval }) as reader:\n",
        "    while True:\n",
        "        df = next(reader)\n",
        "        id = df['info.id'].iloc[0]\n",
        "        if id == 24770:\n",
        "            break\n",
        "    doc = df['rulebook'].iloc[0]\n",
        "    print(doc)\n",
        "    rules = get_rules(doc)\n",
        "\n",
        "rules"
      ]
    },
    {
      "cell_type": "code",
      "execution_count": null,
      "id": "7d6596cd-3fd1-4e50-9dce-e6c333667182",
      "metadata": {
        "id": "7d6596cd-3fd1-4e50-9dce-e6c333667182"
      },
      "outputs": [],
      "source": [
        "from typing import Tuple\n",
        "import pandas as pd\n",
        "import ast\n",
        "import os\n",
        "from IPython.display import clear_output\n",
        "\n",
        "def get_rules_features(text: str) -> Tuple[int, float]:\n",
        "    rules = get_rules(text)\n",
        "    rule_count = len(rules)\n",
        "    return rule_count, len(text) / rule_count\n",
        "\n",
        "def remove_columns_prefix(df) -> None:\n",
        "    '''remove prefix 'info.' from the columns of df'''\n",
        "    df.rename(columns=lambda c: c.rsplit('.', 1)[-1], inplace=True)\n",
        "\n",
        "PROCESSED_DATASET_FILE_PATH = 'data/processed_dataset.csv' if WORKING_LOCALLY \\\n",
        "    else '/content/drive/My Drive/Projects/IRBoardGameComplexity/processed_dataset.csv'\n",
        "\n",
        "if os.path.exists(PROCESSED_DATASET_FILE_PATH):\n",
        "    file_mode = 'a'\n",
        "\n",
        "df_features = pd.DataFrame()\n",
        "# ast.literal_eval converts the family column string into a python array\n",
        "with pd.read_csv(DATASET_FILE_PATH, chunksize=5, converters={ 'family': ast.literal_eval }) as reader:\n",
        "    for df in reader:\n",
        "        remove_columns_prefix(df)\n",
        "        logger.info(f'processing board games {df[[\"id\"]].to_string(index=False)}')\n",
        "        df_rules_features = df.apply(lambda x: pd.Series(get_rules_features(x.rulebook), \n",
        "                                     index=['rule_count', 'avg_rule_len']), axis='columns')\n",
        "        df_features = pd.concat([df_features, df[['averageweight', 'playingtime', 'family']].join(df_rules_features)])\n",
        "        clear_output(wait=True)\n",
        "        \n",
        "# one-hot encoding \"family\" field \n",
        "# from https://stackoverflow.com/questions/71401193/one-hot-encoding-in-python-for-array-values-in-a-dataframe\n",
        "df_features = df_features.join(df_features.pop('family').apply('|'.join).str.get_dummies())\n",
        "df_features.head()\n",
        "\n",
        "df_features.to_csv(PROCESSED_DATASET_FILE_PATH, header=True, index=False, mode='w')    \n",
        "if not WORKING_LOCALLY:\n",
        "    drive.flush_and_unmount()"
      ]
    },
    {
      "cell_type": "code",
      "source": [
        "PROCESSED_DATASET_FILE_PATH = 'data/processed_dataset.csv' if WORKING_LOCALLY \\\n",
        "    else '/content/drive/My Drive/Projects/IRBoardGameComplexity/processed_dataset.csv'\n",
        "\n",
        "df_features.to_csv(PROCESSED_DATASET_FILE_PATH, header=True, index=False, mode='w')"
      ],
      "metadata": {
        "id": "PENgnU4Wrixm"
      },
      "id": "PENgnU4Wrixm",
      "execution_count": null,
      "outputs": []
    }
  ],
  "metadata": {
    "colab": {
      "provenance": [],
      "include_colab_link": true
    },
    "kernelspec": {
      "display_name": "Python 3 (ipykernel)",
      "language": "python",
      "name": "python3"
    },
    "language_info": {
      "codemirror_mode": {
        "name": "ipython",
        "version": 3
      },
      "file_extension": ".py",
      "mimetype": "text/x-python",
      "name": "python",
      "nbconvert_exporter": "python",
      "pygments_lexer": "ipython3",
      "version": "3.10.6"
    },
    "widgets": {
      "application/vnd.jupyter.widget-state+json": {
        "a298247e85334c4cb54d677a5ffaee1d": {
          "model_module": "@jupyter-widgets/controls",
          "model_name": "HBoxModel",
          "model_module_version": "1.5.0",
          "state": {
            "_dom_classes": [],
            "_model_module": "@jupyter-widgets/controls",
            "_model_module_version": "1.5.0",
            "_model_name": "HBoxModel",
            "_view_count": null,
            "_view_module": "@jupyter-widgets/controls",
            "_view_module_version": "1.5.0",
            "_view_name": "HBoxView",
            "box_style": "",
            "children": [
              "IPY_MODEL_e96da9b5a3834078a7b33d16623400af",
              "IPY_MODEL_481f38bcedc04be8be047c99ede442cd",
              "IPY_MODEL_c962a95ab7dc42b995f93e4a99aa80fc"
            ],
            "layout": "IPY_MODEL_669a7d3ba6404a2da85e53238a91df60"
          }
        },
        "e96da9b5a3834078a7b33d16623400af": {
          "model_module": "@jupyter-widgets/controls",
          "model_name": "HTMLModel",
          "model_module_version": "1.5.0",
          "state": {
            "_dom_classes": [],
            "_model_module": "@jupyter-widgets/controls",
            "_model_module_version": "1.5.0",
            "_model_name": "HTMLModel",
            "_view_count": null,
            "_view_module": "@jupyter-widgets/controls",
            "_view_module_version": "1.5.0",
            "_view_name": "HTMLView",
            "description": "",
            "description_tooltip": null,
            "layout": "IPY_MODEL_12aa4de885aa4180a66afe25b6087e7d",
            "placeholder": "​",
            "style": "IPY_MODEL_c598379bbf0b4c0990284e3a9815ad08",
            "value": ""
          }
        },
        "481f38bcedc04be8be047c99ede442cd": {
          "model_module": "@jupyter-widgets/controls",
          "model_name": "FloatProgressModel",
          "model_module_version": "1.5.0",
          "state": {
            "_dom_classes": [],
            "_model_module": "@jupyter-widgets/controls",
            "_model_module_version": "1.5.0",
            "_model_name": "FloatProgressModel",
            "_view_count": null,
            "_view_module": "@jupyter-widgets/controls",
            "_view_module_version": "1.5.0",
            "_view_name": "ProgressView",
            "bar_style": "danger",
            "description": "",
            "description_tooltip": null,
            "layout": "IPY_MODEL_5123a26355894b3493c73274c54716a3",
            "max": 1,
            "min": 0,
            "orientation": "horizontal",
            "style": "IPY_MODEL_207ddac5491443f29e65f23c271e6921",
            "value": 0
          }
        },
        "c962a95ab7dc42b995f93e4a99aa80fc": {
          "model_module": "@jupyter-widgets/controls",
          "model_name": "HTMLModel",
          "model_module_version": "1.5.0",
          "state": {
            "_dom_classes": [],
            "_model_module": "@jupyter-widgets/controls",
            "_model_module_version": "1.5.0",
            "_model_name": "HTMLModel",
            "_view_count": null,
            "_view_module": "@jupyter-widgets/controls",
            "_view_module_version": "1.5.0",
            "_view_name": "HTMLView",
            "description": "",
            "description_tooltip": null,
            "layout": "IPY_MODEL_85a3438907c94a868a7334f46a04b5eb",
            "placeholder": "​",
            "style": "IPY_MODEL_9fb934679ee1462c974818ff026c7a8c",
            "value": "  0% 0/1 [00:00&lt;?, ?ba/s]"
          }
        },
        "669a7d3ba6404a2da85e53238a91df60": {
          "model_module": "@jupyter-widgets/base",
          "model_name": "LayoutModel",
          "model_module_version": "1.2.0",
          "state": {
            "_model_module": "@jupyter-widgets/base",
            "_model_module_version": "1.2.0",
            "_model_name": "LayoutModel",
            "_view_count": null,
            "_view_module": "@jupyter-widgets/base",
            "_view_module_version": "1.2.0",
            "_view_name": "LayoutView",
            "align_content": null,
            "align_items": null,
            "align_self": null,
            "border": null,
            "bottom": null,
            "display": "inline-flex",
            "flex": null,
            "flex_flow": "row wrap",
            "grid_area": null,
            "grid_auto_columns": null,
            "grid_auto_flow": null,
            "grid_auto_rows": null,
            "grid_column": null,
            "grid_gap": null,
            "grid_row": null,
            "grid_template_areas": null,
            "grid_template_columns": null,
            "grid_template_rows": null,
            "height": null,
            "justify_content": null,
            "justify_items": null,
            "left": null,
            "margin": null,
            "max_height": null,
            "max_width": null,
            "min_height": null,
            "min_width": null,
            "object_fit": null,
            "object_position": null,
            "order": null,
            "overflow": null,
            "overflow_x": null,
            "overflow_y": null,
            "padding": null,
            "right": null,
            "top": null,
            "visibility": null,
            "width": "0"
          }
        },
        "12aa4de885aa4180a66afe25b6087e7d": {
          "model_module": "@jupyter-widgets/base",
          "model_name": "LayoutModel",
          "model_module_version": "1.2.0",
          "state": {
            "_model_module": "@jupyter-widgets/base",
            "_model_module_version": "1.2.0",
            "_model_name": "LayoutModel",
            "_view_count": null,
            "_view_module": "@jupyter-widgets/base",
            "_view_module_version": "1.2.0",
            "_view_name": "LayoutView",
            "align_content": null,
            "align_items": null,
            "align_self": null,
            "border": null,
            "bottom": null,
            "display": null,
            "flex": null,
            "flex_flow": null,
            "grid_area": null,
            "grid_auto_columns": null,
            "grid_auto_flow": null,
            "grid_auto_rows": null,
            "grid_column": null,
            "grid_gap": null,
            "grid_row": null,
            "grid_template_areas": null,
            "grid_template_columns": null,
            "grid_template_rows": null,
            "height": null,
            "justify_content": null,
            "justify_items": null,
            "left": null,
            "margin": null,
            "max_height": null,
            "max_width": null,
            "min_height": null,
            "min_width": null,
            "object_fit": null,
            "object_position": null,
            "order": null,
            "overflow": null,
            "overflow_x": null,
            "overflow_y": null,
            "padding": null,
            "right": null,
            "top": null,
            "visibility": null,
            "width": null
          }
        },
        "c598379bbf0b4c0990284e3a9815ad08": {
          "model_module": "@jupyter-widgets/controls",
          "model_name": "DescriptionStyleModel",
          "model_module_version": "1.5.0",
          "state": {
            "_model_module": "@jupyter-widgets/controls",
            "_model_module_version": "1.5.0",
            "_model_name": "DescriptionStyleModel",
            "_view_count": null,
            "_view_module": "@jupyter-widgets/base",
            "_view_module_version": "1.2.0",
            "_view_name": "StyleView",
            "description_width": ""
          }
        },
        "5123a26355894b3493c73274c54716a3": {
          "model_module": "@jupyter-widgets/base",
          "model_name": "LayoutModel",
          "model_module_version": "1.2.0",
          "state": {
            "_model_module": "@jupyter-widgets/base",
            "_model_module_version": "1.2.0",
            "_model_name": "LayoutModel",
            "_view_count": null,
            "_view_module": "@jupyter-widgets/base",
            "_view_module_version": "1.2.0",
            "_view_name": "LayoutView",
            "align_content": null,
            "align_items": null,
            "align_self": null,
            "border": null,
            "bottom": null,
            "display": null,
            "flex": "2",
            "flex_flow": null,
            "grid_area": null,
            "grid_auto_columns": null,
            "grid_auto_flow": null,
            "grid_auto_rows": null,
            "grid_column": null,
            "grid_gap": null,
            "grid_row": null,
            "grid_template_areas": null,
            "grid_template_columns": null,
            "grid_template_rows": null,
            "height": null,
            "justify_content": null,
            "justify_items": null,
            "left": null,
            "margin": null,
            "max_height": null,
            "max_width": null,
            "min_height": null,
            "min_width": null,
            "object_fit": null,
            "object_position": null,
            "order": null,
            "overflow": null,
            "overflow_x": null,
            "overflow_y": null,
            "padding": null,
            "right": null,
            "top": null,
            "visibility": null,
            "width": null
          }
        },
        "207ddac5491443f29e65f23c271e6921": {
          "model_module": "@jupyter-widgets/controls",
          "model_name": "ProgressStyleModel",
          "model_module_version": "1.5.0",
          "state": {
            "_model_module": "@jupyter-widgets/controls",
            "_model_module_version": "1.5.0",
            "_model_name": "ProgressStyleModel",
            "_view_count": null,
            "_view_module": "@jupyter-widgets/base",
            "_view_module_version": "1.2.0",
            "_view_name": "StyleView",
            "bar_color": null,
            "description_width": ""
          }
        },
        "85a3438907c94a868a7334f46a04b5eb": {
          "model_module": "@jupyter-widgets/base",
          "model_name": "LayoutModel",
          "model_module_version": "1.2.0",
          "state": {
            "_model_module": "@jupyter-widgets/base",
            "_model_module_version": "1.2.0",
            "_model_name": "LayoutModel",
            "_view_count": null,
            "_view_module": "@jupyter-widgets/base",
            "_view_module_version": "1.2.0",
            "_view_name": "LayoutView",
            "align_content": null,
            "align_items": null,
            "align_self": null,
            "border": null,
            "bottom": null,
            "display": null,
            "flex": null,
            "flex_flow": null,
            "grid_area": null,
            "grid_auto_columns": null,
            "grid_auto_flow": null,
            "grid_auto_rows": null,
            "grid_column": null,
            "grid_gap": null,
            "grid_row": null,
            "grid_template_areas": null,
            "grid_template_columns": null,
            "grid_template_rows": null,
            "height": null,
            "justify_content": null,
            "justify_items": null,
            "left": null,
            "margin": null,
            "max_height": null,
            "max_width": null,
            "min_height": null,
            "min_width": null,
            "object_fit": null,
            "object_position": null,
            "order": null,
            "overflow": null,
            "overflow_x": null,
            "overflow_y": null,
            "padding": null,
            "right": null,
            "top": null,
            "visibility": null,
            "width": null
          }
        },
        "9fb934679ee1462c974818ff026c7a8c": {
          "model_module": "@jupyter-widgets/controls",
          "model_name": "DescriptionStyleModel",
          "model_module_version": "1.5.0",
          "state": {
            "_model_module": "@jupyter-widgets/controls",
            "_model_module_version": "1.5.0",
            "_model_name": "DescriptionStyleModel",
            "_view_count": null,
            "_view_module": "@jupyter-widgets/base",
            "_view_module_version": "1.2.0",
            "_view_name": "StyleView",
            "description_width": ""
          }
        }
      }
    }
  },
  "nbformat": 4,
  "nbformat_minor": 5
}